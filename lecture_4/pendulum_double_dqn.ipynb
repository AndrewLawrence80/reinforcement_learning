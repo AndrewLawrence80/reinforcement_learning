{
 "cells": [
  {
   "cell_type": "markdown",
   "metadata": {},
   "source": [
    "# Pendulum\n",
    "## Description\n",
    "\n",
    "The inverted pendulum swingup problem is based on the classic problem in control theory.\n",
    "The system consists of a pendulum attached at one end to a fixed point, and the other end being free.\n",
    "The pendulum starts in a random position and the goal is to apply torque on the free end to swing it\n",
    "into an upright position, with its center of gravity right above the fixed point.\n",
    "\n",
    "The diagram below specifies the coordinate system used for the implementation of the pendulum's\n",
    "dynamic equations.\n",
    "\n",
    "![Pendulum Coordinate System](https://gymnasium.farama.org/_images/pendulum.png)\n",
    "\n",
    "-  `x-y`: cartesian coordinates of the pendulum's end in meters.\n",
    "- `theta` : angle in radians.\n",
    "- `tau`: torque in `N m`. Defined as positive _counter-clockwise_.\n",
    "\n",
    "### Action Space\n",
    "\n",
    "The action is a `ndarray` with shape `(1,)` representing the torque applied to free end of the pendulum.\n",
    "\n",
    "| Num | Action | Min  | Max |\n",
    "|-----|--------|------|-----|\n",
    "| 0   | Torque | -2.0 | 2.0 |\n",
    "\n",
    "\n",
    "### Observation Space\n",
    "\n",
    "The observation is a `ndarray` with shape `(3,)` representing the x-y coordinates of the pendulum's free\n",
    "end and its angular velocity.\n",
    "\n",
    "| Num | Observation      | Min  | Max |\n",
    "|-----|------------------|------|-----|\n",
    "| 0   | x = cos(theta)   | -1.0 | 1.0 |\n",
    "| 1   | y = sin(theta)   | -1.0 | 1.0 |\n",
    "| 2   | Angular Velocity | -8.0 | 8.0 |\n",
    "\n",
    "### Rewards\n",
    "\n",
    "The reward function is defined as:\n",
    "\n",
    "*r = -(theta<sup>2</sup> + 0.1 * theta_dt<sup>2</sup> + 0.001 * torque<sup>2</sup>)*\n",
    "\n",
    "where `$\\theta$` is the pendulum's angle normalized between *[-pi, pi]* (with 0 being in the upright position).\n",
    "Based on the above equation, the minimum reward that can be obtained is\n",
    "*-(pi<sup>2</sup> + 0.1 * 8<sup>2</sup> + 0.001 * 2<sup>2</sup>) = -16.2736044*,\n",
    "while the maximum reward is zero (pendulum is upright with zero velocity and no torque applied).\n",
    "\n",
    "### Starting State\n",
    "\n",
    "The starting state is a random angle in *[-pi, pi]* and a random angular velocity in *[-1,1]*.\n",
    "\n",
    "### Episode Truncation\n",
    "\n",
    "The episode truncates at 200 time steps.\n",
    "\n",
    "### Arguments\n",
    "\n",
    "- `g`: acceleration of gravity measured in *(m s<sup>-2</sup>)* used to calculate the pendulum dynamics.\n",
    "    The default value is g = 10.0 .\n",
    "\n",
    "```python\n",
    "import gymnasium as gym\n",
    "gym.make('Pendulum-v1', g=9.81)\n",
    "```\n",
    "\n",
    "On reset, the `options` parameter allows the user to change the bounds used to determine\n",
    "the new random state.\n",
    "\n",
    "### Version History\n",
    "\n",
    "* v1: Simplify the math equations, no difference in behavior.\n",
    "* v0: Initial versions release (1.0.0)\n"
   ]
  },
  {
   "cell_type": "markdown",
   "metadata": {},
   "source": [
    "## Import Env"
   ]
  },
  {
   "cell_type": "code",
   "execution_count": 1,
   "metadata": {},
   "outputs": [
    {
     "name": "stdout",
     "output_type": "stream",
     "text": [
      "CartPole-v0\tEnvSpec(id='CartPole-v0', entry_point='gymnasium.envs.classic_control.cartpole:CartPoleEnv', reward_threshold=195.0, nondeterministic=False, max_episode_steps=200, order_enforce=True, autoreset=False, disable_env_checker=False, apply_api_compatibility=False, kwargs={}, namespace=None, name='CartPole', version=0, additional_wrappers=(), vector_entry_point='gymnasium.envs.classic_control.cartpole:CartPoleVectorEnv')\n",
      "CartPole-v1\tEnvSpec(id='CartPole-v1', entry_point='gymnasium.envs.classic_control.cartpole:CartPoleEnv', reward_threshold=475.0, nondeterministic=False, max_episode_steps=500, order_enforce=True, autoreset=False, disable_env_checker=False, apply_api_compatibility=False, kwargs={}, namespace=None, name='CartPole', version=1, additional_wrappers=(), vector_entry_point='gymnasium.envs.classic_control.cartpole:CartPoleVectorEnv')\n",
      "MountainCar-v0\tEnvSpec(id='MountainCar-v0', entry_point='gymnasium.envs.classic_control.mountain_car:MountainCarEnv', reward_threshold=-110.0, nondeterministic=False, max_episode_steps=200, order_enforce=True, autoreset=False, disable_env_checker=False, apply_api_compatibility=False, kwargs={}, namespace=None, name='MountainCar', version=0, additional_wrappers=(), vector_entry_point=None)\n",
      "MountainCarContinuous-v0\tEnvSpec(id='MountainCarContinuous-v0', entry_point='gymnasium.envs.classic_control.continuous_mountain_car:Continuous_MountainCarEnv', reward_threshold=90.0, nondeterministic=False, max_episode_steps=999, order_enforce=True, autoreset=False, disable_env_checker=False, apply_api_compatibility=False, kwargs={}, namespace=None, name='MountainCarContinuous', version=0, additional_wrappers=(), vector_entry_point=None)\n",
      "Pendulum-v1\tEnvSpec(id='Pendulum-v1', entry_point='gymnasium.envs.classic_control.pendulum:PendulumEnv', reward_threshold=None, nondeterministic=False, max_episode_steps=200, order_enforce=True, autoreset=False, disable_env_checker=False, apply_api_compatibility=False, kwargs={}, namespace=None, name='Pendulum', version=1, additional_wrappers=(), vector_entry_point=None)\n",
      "Acrobot-v1\tEnvSpec(id='Acrobot-v1', entry_point='gymnasium.envs.classic_control.acrobot:AcrobotEnv', reward_threshold=-100.0, nondeterministic=False, max_episode_steps=500, order_enforce=True, autoreset=False, disable_env_checker=False, apply_api_compatibility=False, kwargs={}, namespace=None, name='Acrobot', version=1, additional_wrappers=(), vector_entry_point=None)\n",
      "CartPoleJax-v0\tEnvSpec(id='CartPoleJax-v0', entry_point='gymnasium.envs.phys2d.cartpole:CartPoleJaxEnv', reward_threshold=195.0, nondeterministic=False, max_episode_steps=200, order_enforce=True, autoreset=False, disable_env_checker=False, apply_api_compatibility=False, kwargs={}, namespace=None, name='CartPoleJax', version=0, additional_wrappers=(), vector_entry_point='gymnasium.envs.phys2d.cartpole:CartPoleJaxVectorEnv')\n",
      "CartPoleJax-v1\tEnvSpec(id='CartPoleJax-v1', entry_point='gymnasium.envs.phys2d.cartpole:CartPoleJaxEnv', reward_threshold=475.0, nondeterministic=False, max_episode_steps=500, order_enforce=True, autoreset=False, disable_env_checker=False, apply_api_compatibility=False, kwargs={}, namespace=None, name='CartPoleJax', version=1, additional_wrappers=(), vector_entry_point='gymnasium.envs.phys2d.cartpole:CartPoleJaxVectorEnv')\n",
      "PendulumJax-v0\tEnvSpec(id='PendulumJax-v0', entry_point='gymnasium.envs.phys2d.pendulum:PendulumJaxEnv', reward_threshold=None, nondeterministic=False, max_episode_steps=200, order_enforce=True, autoreset=False, disable_env_checker=False, apply_api_compatibility=False, kwargs={}, namespace=None, name='PendulumJax', version=0, additional_wrappers=(), vector_entry_point='gymnasium.envs.phys2d.pendulum:PendulumJaxVectorEnv')\n",
      "LunarLander-v2\tEnvSpec(id='LunarLander-v2', entry_point='gymnasium.envs.box2d.lunar_lander:LunarLander', reward_threshold=200, nondeterministic=False, max_episode_steps=1000, order_enforce=True, autoreset=False, disable_env_checker=False, apply_api_compatibility=False, kwargs={}, namespace=None, name='LunarLander', version=2, additional_wrappers=(), vector_entry_point=None)\n",
      "LunarLanderContinuous-v2\tEnvSpec(id='LunarLanderContinuous-v2', entry_point='gymnasium.envs.box2d.lunar_lander:LunarLander', reward_threshold=200, nondeterministic=False, max_episode_steps=1000, order_enforce=True, autoreset=False, disable_env_checker=False, apply_api_compatibility=False, kwargs={'continuous': True}, namespace=None, name='LunarLanderContinuous', version=2, additional_wrappers=(), vector_entry_point=None)\n",
      "BipedalWalker-v3\tEnvSpec(id='BipedalWalker-v3', entry_point='gymnasium.envs.box2d.bipedal_walker:BipedalWalker', reward_threshold=300, nondeterministic=False, max_episode_steps=1600, order_enforce=True, autoreset=False, disable_env_checker=False, apply_api_compatibility=False, kwargs={}, namespace=None, name='BipedalWalker', version=3, additional_wrappers=(), vector_entry_point=None)\n",
      "BipedalWalkerHardcore-v3\tEnvSpec(id='BipedalWalkerHardcore-v3', entry_point='gymnasium.envs.box2d.bipedal_walker:BipedalWalker', reward_threshold=300, nondeterministic=False, max_episode_steps=2000, order_enforce=True, autoreset=False, disable_env_checker=False, apply_api_compatibility=False, kwargs={'hardcore': True}, namespace=None, name='BipedalWalkerHardcore', version=3, additional_wrappers=(), vector_entry_point=None)\n",
      "CarRacing-v2\tEnvSpec(id='CarRacing-v2', entry_point='gymnasium.envs.box2d.car_racing:CarRacing', reward_threshold=900, nondeterministic=False, max_episode_steps=1000, order_enforce=True, autoreset=False, disable_env_checker=False, apply_api_compatibility=False, kwargs={}, namespace=None, name='CarRacing', version=2, additional_wrappers=(), vector_entry_point=None)\n",
      "Blackjack-v1\tEnvSpec(id='Blackjack-v1', entry_point='gymnasium.envs.toy_text.blackjack:BlackjackEnv', reward_threshold=None, nondeterministic=False, max_episode_steps=None, order_enforce=True, autoreset=False, disable_env_checker=False, apply_api_compatibility=False, kwargs={'sab': True, 'natural': False}, namespace=None, name='Blackjack', version=1, additional_wrappers=(), vector_entry_point=None)\n",
      "FrozenLake-v1\tEnvSpec(id='FrozenLake-v1', entry_point='gymnasium.envs.toy_text.frozen_lake:FrozenLakeEnv', reward_threshold=0.7, nondeterministic=False, max_episode_steps=100, order_enforce=True, autoreset=False, disable_env_checker=False, apply_api_compatibility=False, kwargs={'map_name': '4x4'}, namespace=None, name='FrozenLake', version=1, additional_wrappers=(), vector_entry_point=None)\n",
      "FrozenLake8x8-v1\tEnvSpec(id='FrozenLake8x8-v1', entry_point='gymnasium.envs.toy_text.frozen_lake:FrozenLakeEnv', reward_threshold=0.85, nondeterministic=False, max_episode_steps=200, order_enforce=True, autoreset=False, disable_env_checker=False, apply_api_compatibility=False, kwargs={'map_name': '8x8'}, namespace=None, name='FrozenLake8x8', version=1, additional_wrappers=(), vector_entry_point=None)\n",
      "CliffWalking-v0\tEnvSpec(id='CliffWalking-v0', entry_point='gymnasium.envs.toy_text.cliffwalking:CliffWalkingEnv', reward_threshold=None, nondeterministic=False, max_episode_steps=None, order_enforce=True, autoreset=False, disable_env_checker=False, apply_api_compatibility=False, kwargs={}, namespace=None, name='CliffWalking', version=0, additional_wrappers=(), vector_entry_point=None)\n",
      "Taxi-v3\tEnvSpec(id='Taxi-v3', entry_point='gymnasium.envs.toy_text.taxi:TaxiEnv', reward_threshold=8, nondeterministic=False, max_episode_steps=200, order_enforce=True, autoreset=False, disable_env_checker=False, apply_api_compatibility=False, kwargs={}, namespace=None, name='Taxi', version=3, additional_wrappers=(), vector_entry_point=None)\n",
      "Jax-Blackjack-v0\tEnvSpec(id='Jax-Blackjack-v0', entry_point='gymnasium.envs.tabular.blackjack:BlackJackJaxEnv', reward_threshold=None, nondeterministic=False, max_episode_steps=None, order_enforce=True, autoreset=False, disable_env_checker=False, apply_api_compatibility=False, kwargs={'sutton_and_barto': True, 'natural': False}, namespace=None, name='Jax-Blackjack', version=0, additional_wrappers=(), vector_entry_point=None)\n",
      "Reacher-v2\tEnvSpec(id='Reacher-v2', entry_point='gymnasium.envs.mujoco:ReacherEnv', reward_threshold=-3.75, nondeterministic=False, max_episode_steps=50, order_enforce=True, autoreset=False, disable_env_checker=False, apply_api_compatibility=False, kwargs={}, namespace=None, name='Reacher', version=2, additional_wrappers=(), vector_entry_point=None)\n",
      "Reacher-v4\tEnvSpec(id='Reacher-v4', entry_point='gymnasium.envs.mujoco.reacher_v4:ReacherEnv', reward_threshold=-3.75, nondeterministic=False, max_episode_steps=50, order_enforce=True, autoreset=False, disable_env_checker=False, apply_api_compatibility=False, kwargs={}, namespace=None, name='Reacher', version=4, additional_wrappers=(), vector_entry_point=None)\n",
      "Pusher-v2\tEnvSpec(id='Pusher-v2', entry_point='gymnasium.envs.mujoco:PusherEnv', reward_threshold=0.0, nondeterministic=False, max_episode_steps=100, order_enforce=True, autoreset=False, disable_env_checker=False, apply_api_compatibility=False, kwargs={}, namespace=None, name='Pusher', version=2, additional_wrappers=(), vector_entry_point=None)\n",
      "Pusher-v4\tEnvSpec(id='Pusher-v4', entry_point='gymnasium.envs.mujoco.pusher_v4:PusherEnv', reward_threshold=0.0, nondeterministic=False, max_episode_steps=100, order_enforce=True, autoreset=False, disable_env_checker=False, apply_api_compatibility=False, kwargs={}, namespace=None, name='Pusher', version=4, additional_wrappers=(), vector_entry_point=None)\n",
      "InvertedPendulum-v2\tEnvSpec(id='InvertedPendulum-v2', entry_point='gymnasium.envs.mujoco:InvertedPendulumEnv', reward_threshold=950.0, nondeterministic=False, max_episode_steps=1000, order_enforce=True, autoreset=False, disable_env_checker=False, apply_api_compatibility=False, kwargs={}, namespace=None, name='InvertedPendulum', version=2, additional_wrappers=(), vector_entry_point=None)\n",
      "InvertedPendulum-v4\tEnvSpec(id='InvertedPendulum-v4', entry_point='gymnasium.envs.mujoco.inverted_pendulum_v4:InvertedPendulumEnv', reward_threshold=950.0, nondeterministic=False, max_episode_steps=1000, order_enforce=True, autoreset=False, disable_env_checker=False, apply_api_compatibility=False, kwargs={}, namespace=None, name='InvertedPendulum', version=4, additional_wrappers=(), vector_entry_point=None)\n",
      "InvertedDoublePendulum-v2\tEnvSpec(id='InvertedDoublePendulum-v2', entry_point='gymnasium.envs.mujoco:InvertedDoublePendulumEnv', reward_threshold=9100.0, nondeterministic=False, max_episode_steps=1000, order_enforce=True, autoreset=False, disable_env_checker=False, apply_api_compatibility=False, kwargs={}, namespace=None, name='InvertedDoublePendulum', version=2, additional_wrappers=(), vector_entry_point=None)\n",
      "InvertedDoublePendulum-v4\tEnvSpec(id='InvertedDoublePendulum-v4', entry_point='gymnasium.envs.mujoco.inverted_double_pendulum_v4:InvertedDoublePendulumEnv', reward_threshold=9100.0, nondeterministic=False, max_episode_steps=1000, order_enforce=True, autoreset=False, disable_env_checker=False, apply_api_compatibility=False, kwargs={}, namespace=None, name='InvertedDoublePendulum', version=4, additional_wrappers=(), vector_entry_point=None)\n",
      "HalfCheetah-v2\tEnvSpec(id='HalfCheetah-v2', entry_point='gymnasium.envs.mujoco:HalfCheetahEnv', reward_threshold=4800.0, nondeterministic=False, max_episode_steps=1000, order_enforce=True, autoreset=False, disable_env_checker=False, apply_api_compatibility=False, kwargs={}, namespace=None, name='HalfCheetah', version=2, additional_wrappers=(), vector_entry_point=None)\n",
      "HalfCheetah-v3\tEnvSpec(id='HalfCheetah-v3', entry_point='gymnasium.envs.mujoco.half_cheetah_v3:HalfCheetahEnv', reward_threshold=4800.0, nondeterministic=False, max_episode_steps=1000, order_enforce=True, autoreset=False, disable_env_checker=False, apply_api_compatibility=False, kwargs={}, namespace=None, name='HalfCheetah', version=3, additional_wrappers=(), vector_entry_point=None)\n",
      "HalfCheetah-v4\tEnvSpec(id='HalfCheetah-v4', entry_point='gymnasium.envs.mujoco.half_cheetah_v4:HalfCheetahEnv', reward_threshold=4800.0, nondeterministic=False, max_episode_steps=1000, order_enforce=True, autoreset=False, disable_env_checker=False, apply_api_compatibility=False, kwargs={}, namespace=None, name='HalfCheetah', version=4, additional_wrappers=(), vector_entry_point=None)\n",
      "Hopper-v2\tEnvSpec(id='Hopper-v2', entry_point='gymnasium.envs.mujoco:HopperEnv', reward_threshold=3800.0, nondeterministic=False, max_episode_steps=1000, order_enforce=True, autoreset=False, disable_env_checker=False, apply_api_compatibility=False, kwargs={}, namespace=None, name='Hopper', version=2, additional_wrappers=(), vector_entry_point=None)\n",
      "Hopper-v3\tEnvSpec(id='Hopper-v3', entry_point='gymnasium.envs.mujoco.hopper_v3:HopperEnv', reward_threshold=3800.0, nondeterministic=False, max_episode_steps=1000, order_enforce=True, autoreset=False, disable_env_checker=False, apply_api_compatibility=False, kwargs={}, namespace=None, name='Hopper', version=3, additional_wrappers=(), vector_entry_point=None)\n",
      "Hopper-v4\tEnvSpec(id='Hopper-v4', entry_point='gymnasium.envs.mujoco.hopper_v4:HopperEnv', reward_threshold=3800.0, nondeterministic=False, max_episode_steps=1000, order_enforce=True, autoreset=False, disable_env_checker=False, apply_api_compatibility=False, kwargs={}, namespace=None, name='Hopper', version=4, additional_wrappers=(), vector_entry_point=None)\n",
      "Swimmer-v2\tEnvSpec(id='Swimmer-v2', entry_point='gymnasium.envs.mujoco:SwimmerEnv', reward_threshold=360.0, nondeterministic=False, max_episode_steps=1000, order_enforce=True, autoreset=False, disable_env_checker=False, apply_api_compatibility=False, kwargs={}, namespace=None, name='Swimmer', version=2, additional_wrappers=(), vector_entry_point=None)\n",
      "Swimmer-v3\tEnvSpec(id='Swimmer-v3', entry_point='gymnasium.envs.mujoco.swimmer_v3:SwimmerEnv', reward_threshold=360.0, nondeterministic=False, max_episode_steps=1000, order_enforce=True, autoreset=False, disable_env_checker=False, apply_api_compatibility=False, kwargs={}, namespace=None, name='Swimmer', version=3, additional_wrappers=(), vector_entry_point=None)\n",
      "Swimmer-v4\tEnvSpec(id='Swimmer-v4', entry_point='gymnasium.envs.mujoco.swimmer_v4:SwimmerEnv', reward_threshold=360.0, nondeterministic=False, max_episode_steps=1000, order_enforce=True, autoreset=False, disable_env_checker=False, apply_api_compatibility=False, kwargs={}, namespace=None, name='Swimmer', version=4, additional_wrappers=(), vector_entry_point=None)\n",
      "Walker2d-v2\tEnvSpec(id='Walker2d-v2', entry_point='gymnasium.envs.mujoco:Walker2dEnv', reward_threshold=None, nondeterministic=False, max_episode_steps=1000, order_enforce=True, autoreset=False, disable_env_checker=False, apply_api_compatibility=False, kwargs={}, namespace=None, name='Walker2d', version=2, additional_wrappers=(), vector_entry_point=None)\n",
      "Walker2d-v3\tEnvSpec(id='Walker2d-v3', entry_point='gymnasium.envs.mujoco.walker2d_v3:Walker2dEnv', reward_threshold=None, nondeterministic=False, max_episode_steps=1000, order_enforce=True, autoreset=False, disable_env_checker=False, apply_api_compatibility=False, kwargs={}, namespace=None, name='Walker2d', version=3, additional_wrappers=(), vector_entry_point=None)\n",
      "Walker2d-v4\tEnvSpec(id='Walker2d-v4', entry_point='gymnasium.envs.mujoco.walker2d_v4:Walker2dEnv', reward_threshold=None, nondeterministic=False, max_episode_steps=1000, order_enforce=True, autoreset=False, disable_env_checker=False, apply_api_compatibility=False, kwargs={}, namespace=None, name='Walker2d', version=4, additional_wrappers=(), vector_entry_point=None)\n",
      "Ant-v2\tEnvSpec(id='Ant-v2', entry_point='gymnasium.envs.mujoco:AntEnv', reward_threshold=6000.0, nondeterministic=False, max_episode_steps=1000, order_enforce=True, autoreset=False, disable_env_checker=False, apply_api_compatibility=False, kwargs={}, namespace=None, name='Ant', version=2, additional_wrappers=(), vector_entry_point=None)\n",
      "Ant-v3\tEnvSpec(id='Ant-v3', entry_point='gymnasium.envs.mujoco.ant_v3:AntEnv', reward_threshold=6000.0, nondeterministic=False, max_episode_steps=1000, order_enforce=True, autoreset=False, disable_env_checker=False, apply_api_compatibility=False, kwargs={}, namespace=None, name='Ant', version=3, additional_wrappers=(), vector_entry_point=None)\n",
      "Ant-v4\tEnvSpec(id='Ant-v4', entry_point='gymnasium.envs.mujoco.ant_v4:AntEnv', reward_threshold=6000.0, nondeterministic=False, max_episode_steps=1000, order_enforce=True, autoreset=False, disable_env_checker=False, apply_api_compatibility=False, kwargs={}, namespace=None, name='Ant', version=4, additional_wrappers=(), vector_entry_point=None)\n",
      "Humanoid-v2\tEnvSpec(id='Humanoid-v2', entry_point='gymnasium.envs.mujoco:HumanoidEnv', reward_threshold=None, nondeterministic=False, max_episode_steps=1000, order_enforce=True, autoreset=False, disable_env_checker=False, apply_api_compatibility=False, kwargs={}, namespace=None, name='Humanoid', version=2, additional_wrappers=(), vector_entry_point=None)\n",
      "Humanoid-v3\tEnvSpec(id='Humanoid-v3', entry_point='gymnasium.envs.mujoco.humanoid_v3:HumanoidEnv', reward_threshold=None, nondeterministic=False, max_episode_steps=1000, order_enforce=True, autoreset=False, disable_env_checker=False, apply_api_compatibility=False, kwargs={}, namespace=None, name='Humanoid', version=3, additional_wrappers=(), vector_entry_point=None)\n",
      "Humanoid-v4\tEnvSpec(id='Humanoid-v4', entry_point='gymnasium.envs.mujoco.humanoid_v4:HumanoidEnv', reward_threshold=None, nondeterministic=False, max_episode_steps=1000, order_enforce=True, autoreset=False, disable_env_checker=False, apply_api_compatibility=False, kwargs={}, namespace=None, name='Humanoid', version=4, additional_wrappers=(), vector_entry_point=None)\n",
      "HumanoidStandup-v2\tEnvSpec(id='HumanoidStandup-v2', entry_point='gymnasium.envs.mujoco:HumanoidStandupEnv', reward_threshold=None, nondeterministic=False, max_episode_steps=1000, order_enforce=True, autoreset=False, disable_env_checker=False, apply_api_compatibility=False, kwargs={}, namespace=None, name='HumanoidStandup', version=2, additional_wrappers=(), vector_entry_point=None)\n",
      "HumanoidStandup-v4\tEnvSpec(id='HumanoidStandup-v4', entry_point='gymnasium.envs.mujoco.humanoidstandup_v4:HumanoidStandupEnv', reward_threshold=None, nondeterministic=False, max_episode_steps=1000, order_enforce=True, autoreset=False, disable_env_checker=False, apply_api_compatibility=False, kwargs={}, namespace=None, name='HumanoidStandup', version=4, additional_wrappers=(), vector_entry_point=None)\n",
      "GymV21Environment-v0\tEnvSpec(id='GymV21Environment-v0', entry_point=<function _raise_shimmy_error at 0x7f32fae2a5f0>, reward_threshold=None, nondeterministic=False, max_episode_steps=None, order_enforce=True, autoreset=False, disable_env_checker=False, apply_api_compatibility=False, kwargs={}, namespace=None, name='GymV21Environment', version=0, additional_wrappers=(), vector_entry_point=None)\n",
      "GymV26Environment-v0\tEnvSpec(id='GymV26Environment-v0', entry_point=<function _raise_shimmy_error at 0x7f32fae2a5f0>, reward_threshold=None, nondeterministic=False, max_episode_steps=None, order_enforce=True, autoreset=False, disable_env_checker=False, apply_api_compatibility=False, kwargs={}, namespace=None, name='GymV26Environment', version=0, additional_wrappers=(), vector_entry_point=None)\n"
     ]
    }
   ],
   "source": [
    "import gymnasium as gym\n",
    "from gymnasium.envs.classic_control.pendulum import PendulumEnv\n",
    "\n",
    "for k,v in gym.envs.registry.items():\n",
    "    print(str(k)+\"\\t\"+str(v))"
   ]
  },
  {
   "cell_type": "code",
   "execution_count": 2,
   "metadata": {},
   "outputs": [
    {
     "name": "stdout",
     "output_type": "stream",
     "text": [
      "Observation space Box([-1. -1. -8.], [1. 1. 8.], (3,), float32)\n",
      "Action space Box(-2.0, 2.0, (1,), float32)\n"
     ]
    }
   ],
   "source": [
    "env = gym.make(\"Pendulum-v1\")\n",
    "print(\"Observation space\", env.observation_space)\n",
    "print(\"Action space\", env.action_space)"
   ]
  },
  {
   "cell_type": "markdown",
   "metadata": {},
   "source": [
    "## DQN\n",
    "### State Normalization"
   ]
  },
  {
   "cell_type": "code",
   "execution_count": 3,
   "metadata": {},
   "outputs": [
    {
     "data": {
      "text/plain": [
       "array([0.7692542 , 0.07868996, 0.5251672 ], dtype=float32)"
      ]
     },
     "execution_count": 3,
     "metadata": {},
     "output_type": "execute_result"
    }
   ],
   "source": [
    "import numpy as np\n",
    "\n",
    "\n",
    "def normalizer(env: gym.Env, state: np.ndarray):\n",
    "    LOW = env.observation_space.low\n",
    "    HIGH = env.observation_space.high\n",
    "    normalized_state = np.zeros(state.shape)\n",
    "    normalized_state = (state-LOW)/(HIGH - LOW)\n",
    "    return normalized_state\n",
    "\n",
    "normalizer(env,env.reset()[0])"
   ]
  },
  {
   "cell_type": "markdown",
   "metadata": {},
   "source": [
    "### Action Space Discretization"
   ]
  },
  {
   "cell_type": "code",
   "execution_count": 4,
   "metadata": {},
   "outputs": [],
   "source": [
    "class Action:\n",
    "    def __init__(self, env: gym.Env, num_actions: int = 21) -> None:\n",
    "        self.action = np.linspace(env.action_space.low, env.action_space.high, num_actions)\n",
    "\n",
    "    def get_action(self, index: int) -> float:\n",
    "        return self.action[index]\n",
    "\n",
    "    def get_num_actions(self) -> int:\n",
    "        return len(self.action)"
   ]
  },
  {
   "cell_type": "markdown",
   "metadata": {},
   "source": [
    "### Experience"
   ]
  },
  {
   "cell_type": "code",
   "execution_count": 5,
   "metadata": {},
   "outputs": [],
   "source": [
    "from collections import namedtuple, deque\n",
    "import random\n",
    "Transaction = namedtuple(\"Transaction\", [\"state\", \"action\", \"next_state\", \"next_action\", \"reward\"])\n",
    "\n",
    "\n",
    "class Experience:\n",
    "    def __init__(self, maxlen: int) -> None:\n",
    "        self.experience = deque([], maxlen)\n",
    "\n",
    "    def append(self, transaction: Transaction) -> None:\n",
    "        self.experience.append(transaction)\n",
    "\n",
    "    def sample(self, batch_size: int) -> None:\n",
    "        return random.sample(self.experience, batch_size)\n",
    "\n",
    "    def __len__(self) -> int:\n",
    "        return len(self.experience)"
   ]
  },
  {
   "cell_type": "markdown",
   "metadata": {},
   "source": [
    "### Q network"
   ]
  },
  {
   "cell_type": "code",
   "execution_count": 6,
   "metadata": {},
   "outputs": [],
   "source": [
    "import torch.nn as nn\n",
    "import torch\n",
    "\n",
    "\n",
    "class DQN(nn.Module):\n",
    "    def __init__(self, num_observations, num_actions) -> None:\n",
    "        super().__init__()\n",
    "        self.num_hidden = 128\n",
    "        self.linear_1 = nn.Linear(num_observations, self.num_hidden)\n",
    "        self.linear_2 = nn.Linear(self.num_hidden, self.num_hidden)\n",
    "        self.linear_3 = nn.Linear(self.num_hidden, num_actions)\n",
    "        self.selu = nn.SELU()\n",
    "\n",
    "    def forward(self, x: torch.Tensor) -> torch.Tensor:\n",
    "        x = self.linear_1(x)\n",
    "        x = self.selu(x)\n",
    "        x = self.linear_2(x)\n",
    "        x = self.selu(x)\n",
    "        x = self.linear_3(x)\n",
    "        return x"
   ]
  },
  {
   "cell_type": "markdown",
   "metadata": {},
   "source": [
    "### Epsilon-Greedy"
   ]
  },
  {
   "cell_type": "code",
   "execution_count": 7,
   "metadata": {},
   "outputs": [],
   "source": [
    "def get_epsilon(epsilon_start: float, epsilon_end: float, step: int, epsilon_decay: int = 500):\n",
    "    return epsilon_end+(epsilon_start-epsilon_end)*np.exp(-1.0*step/epsilon_decay)\n",
    "\n",
    "\n",
    "def epsilon_greedy(q_approximator: nn.Module, state: torch.Tensor, epsilon: float, num_actions: int) -> int:\n",
    "    q_actions = q_approximator(state).detach().cpu().numpy()\n",
    "    probability = np.ones(num_actions)*epsilon/num_actions\n",
    "    index_action_with_max_q = np.argmax(q_actions)\n",
    "    probability[index_action_with_max_q] = 1-np.sum(probability[1:])\n",
    "    return np.random.choice(np.arange(num_actions), p=probability)"
   ]
  },
  {
   "cell_type": "markdown",
   "metadata": {},
   "source": [
    "### Learning Rate Decay"
   ]
  },
  {
   "cell_type": "code",
   "execution_count": 8,
   "metadata": {},
   "outputs": [],
   "source": [
    "def get_learning_rate(learning_rate_start: float, learning_rate_end: float, step: int, learning_rate_decay: int = 1000):\n",
    "    return learning_rate_end+(learning_rate_start-learning_rate_end)*np.exp(-1.0*step/learning_rate_decay)"
   ]
  },
  {
   "cell_type": "markdown",
   "metadata": {},
   "source": [
    "### Q Learning"
   ]
  },
  {
   "cell_type": "code",
   "execution_count": 9,
   "metadata": {},
   "outputs": [],
   "source": [
    "def q_learning_update_policy_net(policy_net: DQN, target_net: DQN, experience: Experience, batch_size: int, gamma: float, learning_rate: float, loss_fn: nn.Module, optimizer: torch.optim.Optimizer, tau: float, device: str):\n",
    "    for g in optimizer.param_groups:\n",
    "        g[\"lr\"] = learning_rate\n",
    "\n",
    "    batch = experience.sample(batch_size)\n",
    "    batch_state, batch_action, batch_next_state, batch_next_action, batch_reward = zip(*batch)\n",
    "\n",
    "    mask_batch_next_state_is_not_none = [next_state is not None for next_state in batch_next_state]\n",
    "    batch_not_none_next_state = [next_state for next_state in batch_next_state if next_state is not None]\n",
    "\n",
    "    batch_state = torch.tensor(batch_state, dtype=torch.float32, device=device)\n",
    "    batch_action = torch.tensor(batch_action, dtype=torch.int64, device=device).reshape((-1, 1))\n",
    "    batch_not_none_next_state = torch.tensor(batch_not_none_next_state, dtype=torch.float32, device=device)\n",
    "    batch_reward = torch.tensor(batch_reward, dtype=torch.float32, device=device).reshape((-1, 1))\n",
    "    mask_batch_next_state_is_not_none = torch.tensor(mask_batch_next_state_is_not_none, dtype=torch.bool, device=device)\n",
    "\n",
    "    q_state_action = policy_net(batch_state).gather(1, batch_action)\n",
    "    q_next_state_action = torch.zeros(q_state_action.size(), device=device)\n",
    "    with torch.no_grad():\n",
    "        batch_max_action = policy_net(batch_not_none_next_state).max(1)[1].reshape((-1, 1))\n",
    "        q_next_state_action[mask_batch_next_state_is_not_none] = target_net(batch_not_none_next_state).gather(1, batch_max_action)\n",
    "    q_target = batch_reward+gamma*q_next_state_action\n",
    "\n",
    "    optimizer.zero_grad()\n",
    "    loss = loss_fn(q_state_action, q_target)\n",
    "    loss.backward()\n",
    "    optimizer.step()\n",
    "\n",
    "    target_net_state_dict = target_net.state_dict()\n",
    "    policy_net_state_dict = policy_net.state_dict()\n",
    "    for key in policy_net_state_dict:\n",
    "        target_net_state_dict[key] = policy_net_state_dict[key] * tau + target_net_state_dict[key]*(1-tau)\n",
    "    target_net.load_state_dict(target_net_state_dict)\n",
    "\n",
    "    return loss.item()"
   ]
  },
  {
   "cell_type": "code",
   "execution_count": 10,
   "metadata": {},
   "outputs": [],
   "source": [
    "from collections import defaultdict\n",
    "\n",
    "\n",
    "def q_learning(env: gym.Env, num_episodes: int = 1000, experience_maxlen=2**10, batch_size=64,\n",
    "               gamma: float = 0.9,\n",
    "               learning_rate_start: float = 1e-3, learning_rate_end: float = 1e-4,\n",
    "               epsilon_start: float = 0.9, epsilon_end: float = 0.05,\n",
    "               tau=0.005,\n",
    "               device: str = \"cpu\",\n",
    "               print_step: int = 100):\n",
    "    action_candidates = Action(env)\n",
    "\n",
    "    policy_net = DQN(env.observation_space.shape[0], action_candidates.get_num_actions()).to(device)\n",
    "    target_net = DQN(env.observation_space.shape[0], action_candidates.get_num_actions()).to(device)\n",
    "    target_net.load_state_dict(policy_net.state_dict())\n",
    "\n",
    "    loss_fn = nn.SmoothL1Loss()\n",
    "    optimizer = torch.optim.SGD(policy_net.parameters(), lr=learning_rate_start)\n",
    "\n",
    "    experience = Experience(experience_maxlen)\n",
    "\n",
    "    num_attempts_per_episode = defaultdict(int)\n",
    "    reward_per_episode = defaultdict(float)\n",
    "\n",
    "    loss = 0.0\n",
    "\n",
    "    for episode_i in range(num_episodes):\n",
    "        state = env.reset()[0]\n",
    "        is_truncated = False\n",
    "\n",
    "        epsilon = get_epsilon(epsilon_start, epsilon_end, episode_i, num_episodes)\n",
    "        learning_rate = get_learning_rate(learning_rate_start, learning_rate_end, episode_i, num_episodes)\n",
    "\n",
    "        while not is_truncated:\n",
    "            normalized_state = normalizer(env, state)\n",
    "            normalized_state_tensor = torch.tensor(normalized_state, dtype=torch.float32, device=device)\n",
    "            action_index = epsilon_greedy(policy_net, normalized_state_tensor, epsilon, action_candidates.get_num_actions())\n",
    "            action = action_candidates.get_action(action_index)\n",
    "            next_state, reward, is_terminated, is_truncated, info = env.step(action)\n",
    "            normalized_next_state = normalizer(env, next_state)\n",
    "            if is_truncated:\n",
    "                next_state = None\n",
    "                normalized_next_state = None\n",
    "\n",
    "            experience.append(Transaction(normalized_state, action_index, normalized_next_state, None, reward))\n",
    "\n",
    "            state = next_state\n",
    "\n",
    "            if len(experience) > batch_size:\n",
    "                loss = q_learning_update_policy_net(policy_net, target_net, experience, batch_size, gamma, learning_rate, loss_fn, optimizer, tau, device)\n",
    "\n",
    "            num_attempts_per_episode[episode_i] += 1\n",
    "            reward_per_episode[episode_i] += reward\n",
    "\n",
    "        if episode_i % print_step == 0:\n",
    "            print(\"episode %d, loss %f, num_attempts %d, reward %d\" % (episode_i, loss, num_attempts_per_episode[episode_i], reward_per_episode[episode_i]))\n",
    "\n",
    "    return policy_net, num_attempts_per_episode, reward_per_episode"
   ]
  },
  {
   "cell_type": "code",
   "execution_count": 12,
   "metadata": {},
   "outputs": [
    {
     "ename": "KeyboardInterrupt",
     "evalue": "",
     "output_type": "error",
     "traceback": [
      "\u001b[0;31m---------------------------------------------------------------------------\u001b[0m",
      "\u001b[0;31mKeyboardInterrupt\u001b[0m                         Traceback (most recent call last)",
      "\u001b[1;32m/home/andrew/projects/reinforcement_learning/lecture_4/pendulum_double_dqn.ipynb Cell 20\u001b[0m line \u001b[0;36m3\n\u001b[1;32m      <a href='vscode-notebook-cell:/home/andrew/projects/reinforcement_learning/lecture_4/pendulum_double_dqn.ipynb#X25sZmlsZQ%3D%3D?line=0'>1</a>\u001b[0m \u001b[39mimport\u001b[39;00m \u001b[39mtime\u001b[39;00m\n\u001b[1;32m      <a href='vscode-notebook-cell:/home/andrew/projects/reinforcement_learning/lecture_4/pendulum_double_dqn.ipynb#X25sZmlsZQ%3D%3D?line=1'>2</a>\u001b[0m t_start\u001b[39m=\u001b[39mtime\u001b[39m.\u001b[39mtime()\n\u001b[0;32m----> <a href='vscode-notebook-cell:/home/andrew/projects/reinforcement_learning/lecture_4/pendulum_double_dqn.ipynb#X25sZmlsZQ%3D%3D?line=2'>3</a>\u001b[0m q_learning_policy_net,q_learning_num_attempts_per_episode,q_learning_reward_per_episode\u001b[39m=\u001b[39mq_learning(env,num_episodes\u001b[39m=\u001b[39;49m\u001b[39m1500\u001b[39;49m,experience_maxlen\u001b[39m=\u001b[39;49m\u001b[39m2\u001b[39;49m\u001b[39m*\u001b[39;49m\u001b[39m*\u001b[39;49m\u001b[39m10\u001b[39;49m,batch_size\u001b[39m=\u001b[39;49m\u001b[39m128\u001b[39;49m,gamma\u001b[39m=\u001b[39;49m\u001b[39m0.9\u001b[39;49m,learning_rate_start\u001b[39m=\u001b[39;49m\u001b[39m1e-3\u001b[39;49m,learning_rate_end\u001b[39m=\u001b[39;49m\u001b[39m1e-4\u001b[39;49m,epsilon_start\u001b[39m=\u001b[39;49m\u001b[39m0.1\u001b[39;49m,epsilon_end\u001b[39m=\u001b[39;49m\u001b[39m0.05\u001b[39;49m,tau\u001b[39m=\u001b[39;49m\u001b[39m0.005\u001b[39;49m,device\u001b[39m=\u001b[39;49m\u001b[39m\"\u001b[39;49m\u001b[39mcuda\u001b[39;49m\u001b[39m\"\u001b[39;49m \u001b[39mif\u001b[39;49;00m torch\u001b[39m.\u001b[39;49mcuda\u001b[39m.\u001b[39;49mis_available() \u001b[39melse\u001b[39;49;00m \u001b[39m\"\u001b[39;49m\u001b[39mcpu\u001b[39;49m\u001b[39m\"\u001b[39;49m,print_step\u001b[39m=\u001b[39;49m\u001b[39m100\u001b[39;49m)\n\u001b[1;32m      <a href='vscode-notebook-cell:/home/andrew/projects/reinforcement_learning/lecture_4/pendulum_double_dqn.ipynb#X25sZmlsZQ%3D%3D?line=3'>4</a>\u001b[0m t_end\u001b[39m=\u001b[39mtime\u001b[39m.\u001b[39mtime()\n\u001b[1;32m      <a href='vscode-notebook-cell:/home/andrew/projects/reinforcement_learning/lecture_4/pendulum_double_dqn.ipynb#X25sZmlsZQ%3D%3D?line=4'>5</a>\u001b[0m \u001b[39mprint\u001b[39m(\u001b[39m\"\u001b[39m\u001b[39mtraining cost: \u001b[39m\u001b[39m\"\u001b[39m, t_end\u001b[39m-\u001b[39mt_start)\n",
      "\u001b[1;32m/home/andrew/projects/reinforcement_learning/lecture_4/pendulum_double_dqn.ipynb Cell 20\u001b[0m line \u001b[0;36m3\n\u001b[1;32m     <a href='vscode-notebook-cell:/home/andrew/projects/reinforcement_learning/lecture_4/pendulum_double_dqn.ipynb#X25sZmlsZQ%3D%3D?line=36'>37</a>\u001b[0m action_index \u001b[39m=\u001b[39m epsilon_greedy(policy_net, normalized_state_tensor, epsilon, action_candidates\u001b[39m.\u001b[39mget_num_actions())\n\u001b[1;32m     <a href='vscode-notebook-cell:/home/andrew/projects/reinforcement_learning/lecture_4/pendulum_double_dqn.ipynb#X25sZmlsZQ%3D%3D?line=37'>38</a>\u001b[0m action \u001b[39m=\u001b[39m action_candidates\u001b[39m.\u001b[39mget_action(action_index)\n\u001b[0;32m---> <a href='vscode-notebook-cell:/home/andrew/projects/reinforcement_learning/lecture_4/pendulum_double_dqn.ipynb#X25sZmlsZQ%3D%3D?line=38'>39</a>\u001b[0m next_state, reward, is_terminated, is_truncated, info \u001b[39m=\u001b[39m env\u001b[39m.\u001b[39mstep(action)\n\u001b[1;32m     <a href='vscode-notebook-cell:/home/andrew/projects/reinforcement_learning/lecture_4/pendulum_double_dqn.ipynb#X25sZmlsZQ%3D%3D?line=39'>40</a>\u001b[0m normalized_next_state \u001b[39m=\u001b[39m normalizer(env, next_state)\n\u001b[1;32m     <a href='vscode-notebook-cell:/home/andrew/projects/reinforcement_learning/lecture_4/pendulum_double_dqn.ipynb#X25sZmlsZQ%3D%3D?line=40'>41</a>\u001b[0m \u001b[39mif\u001b[39;00m is_truncated:\n",
      "\u001b[1;32m/home/andrew/projects/reinforcement_learning/lecture_4/pendulum_double_dqn.ipynb Cell 20\u001b[0m line \u001b[0;36m3\n\u001b[1;32m     <a href='vscode-notebook-cell:/home/andrew/projects/reinforcement_learning/lecture_4/pendulum_double_dqn.ipynb#X25sZmlsZQ%3D%3D?line=36'>37</a>\u001b[0m action_index \u001b[39m=\u001b[39m epsilon_greedy(policy_net, normalized_state_tensor, epsilon, action_candidates\u001b[39m.\u001b[39mget_num_actions())\n\u001b[1;32m     <a href='vscode-notebook-cell:/home/andrew/projects/reinforcement_learning/lecture_4/pendulum_double_dqn.ipynb#X25sZmlsZQ%3D%3D?line=37'>38</a>\u001b[0m action \u001b[39m=\u001b[39m action_candidates\u001b[39m.\u001b[39mget_action(action_index)\n\u001b[0;32m---> <a href='vscode-notebook-cell:/home/andrew/projects/reinforcement_learning/lecture_4/pendulum_double_dqn.ipynb#X25sZmlsZQ%3D%3D?line=38'>39</a>\u001b[0m next_state, reward, is_terminated, is_truncated, info \u001b[39m=\u001b[39m env\u001b[39m.\u001b[39mstep(action)\n\u001b[1;32m     <a href='vscode-notebook-cell:/home/andrew/projects/reinforcement_learning/lecture_4/pendulum_double_dqn.ipynb#X25sZmlsZQ%3D%3D?line=39'>40</a>\u001b[0m normalized_next_state \u001b[39m=\u001b[39m normalizer(env, next_state)\n\u001b[1;32m     <a href='vscode-notebook-cell:/home/andrew/projects/reinforcement_learning/lecture_4/pendulum_double_dqn.ipynb#X25sZmlsZQ%3D%3D?line=40'>41</a>\u001b[0m \u001b[39mif\u001b[39;00m is_truncated:\n",
      "File \u001b[0;32m_pydevd_bundle/pydevd_cython.pyx:1457\u001b[0m, in \u001b[0;36m_pydevd_bundle.pydevd_cython.SafeCallWrapper.__call__\u001b[0;34m()\u001b[0m\n",
      "File \u001b[0;32m_pydevd_bundle/pydevd_cython.pyx:701\u001b[0m, in \u001b[0;36m_pydevd_bundle.pydevd_cython.PyDBFrame.trace_dispatch\u001b[0;34m()\u001b[0m\n",
      "File \u001b[0;32m_pydevd_bundle/pydevd_cython.pyx:1152\u001b[0m, in \u001b[0;36m_pydevd_bundle.pydevd_cython.PyDBFrame.trace_dispatch\u001b[0;34m()\u001b[0m\n",
      "File \u001b[0;32m_pydevd_bundle/pydevd_cython.pyx:1135\u001b[0m, in \u001b[0;36m_pydevd_bundle.pydevd_cython.PyDBFrame.trace_dispatch\u001b[0;34m()\u001b[0m\n",
      "File \u001b[0;32m_pydevd_bundle/pydevd_cython.pyx:312\u001b[0m, in \u001b[0;36m_pydevd_bundle.pydevd_cython.PyDBFrame.do_wait_suspend\u001b[0;34m()\u001b[0m\n",
      "File \u001b[0;32m/opt/miniconda3/envs/pytorch_1.12.1_rl/lib/python3.10/site-packages/debugpy/_vendored/pydevd/pydevd.py:2070\u001b[0m, in \u001b[0;36mPyDB.do_wait_suspend\u001b[0;34m(self, thread, frame, event, arg, exception_type)\u001b[0m\n\u001b[1;32m   2067\u001b[0m             from_this_thread\u001b[39m.\u001b[39mappend(frame_custom_thread_id)\n\u001b[1;32m   2069\u001b[0m     \u001b[39mwith\u001b[39;00m \u001b[39mself\u001b[39m\u001b[39m.\u001b[39m_threads_suspended_single_notification\u001b[39m.\u001b[39mnotify_thread_suspended(thread_id, thread, stop_reason):\n\u001b[0;32m-> 2070\u001b[0m         keep_suspended \u001b[39m=\u001b[39m \u001b[39mself\u001b[39;49m\u001b[39m.\u001b[39;49m_do_wait_suspend(thread, frame, event, arg, suspend_type, from_this_thread, frames_tracker)\n\u001b[1;32m   2072\u001b[0m frames_list \u001b[39m=\u001b[39m \u001b[39mNone\u001b[39;00m\n\u001b[1;32m   2074\u001b[0m \u001b[39mif\u001b[39;00m keep_suspended:\n\u001b[1;32m   2075\u001b[0m     \u001b[39m# This means that we should pause again after a set next statement.\u001b[39;00m\n",
      "File \u001b[0;32m/opt/miniconda3/envs/pytorch_1.12.1_rl/lib/python3.10/site-packages/debugpy/_vendored/pydevd/pydevd.py:2105\u001b[0m, in \u001b[0;36mPyDB._do_wait_suspend\u001b[0;34m(self, thread, frame, event, arg, suspend_type, from_this_thread, frames_tracker)\u001b[0m\n\u001b[1;32m   2101\u001b[0m     \u001b[39mif\u001b[39;00m in_main_thread \u001b[39mand\u001b[39;00m \u001b[39mself\u001b[39m\u001b[39m.\u001b[39mgui_in_use:\n\u001b[1;32m   2102\u001b[0m         \u001b[39m# call input hooks if only GUI is in use\u001b[39;00m\n\u001b[1;32m   2103\u001b[0m         \u001b[39mself\u001b[39m\u001b[39m.\u001b[39m_call_input_hook()\n\u001b[0;32m-> 2105\u001b[0m     \u001b[39mself\u001b[39;49m\u001b[39m.\u001b[39;49mprocess_internal_commands()\n\u001b[1;32m   2106\u001b[0m     time\u001b[39m.\u001b[39msleep(\u001b[39m0.01\u001b[39m)\n\u001b[1;32m   2108\u001b[0m \u001b[39mself\u001b[39m\u001b[39m.\u001b[39mcancel_async_evaluation(get_current_thread_id(thread), \u001b[39mstr\u001b[39m(\u001b[39mid\u001b[39m(frame)))\n",
      "File \u001b[0;32m/opt/miniconda3/envs/pytorch_1.12.1_rl/lib/python3.10/site-packages/debugpy/_vendored/pydevd/pydevd.py:1703\u001b[0m, in \u001b[0;36mPyDB.process_internal_commands\u001b[0;34m(self)\u001b[0m\n\u001b[1;32m   1701\u001b[0m \u001b[39mif\u001b[39;00m \u001b[39mgetattr\u001b[39m(t, \u001b[39m'\u001b[39m\u001b[39mis_pydev_daemon_thread\u001b[39m\u001b[39m'\u001b[39m, \u001b[39mFalse\u001b[39;00m):\n\u001b[1;32m   1702\u001b[0m     \u001b[39mpass\u001b[39;00m  \u001b[39m# I.e.: skip the DummyThreads created from pydev daemon threads\u001b[39;00m\n\u001b[0;32m-> 1703\u001b[0m \u001b[39melif\u001b[39;00m \u001b[39misinstance\u001b[39;49m(t, PyDBDaemonThread):\n\u001b[1;32m   1704\u001b[0m     pydev_log\u001b[39m.\u001b[39merror_once(\u001b[39m'\u001b[39m\u001b[39mError in debugger: Found PyDBDaemonThread not marked with is_pydev_daemon_thread=True.\u001b[39m\u001b[39m'\u001b[39m)\n\u001b[1;32m   1706\u001b[0m \u001b[39melif\u001b[39;00m is_thread_alive(t):\n",
      "\u001b[0;31mKeyboardInterrupt\u001b[0m: "
     ]
    }
   ],
   "source": [
    "import time\n",
    "t_start=time.time()\n",
    "q_learning_policy_net,q_learning_num_attempts_per_episode,q_learning_reward_per_episode=q_learning(env,num_episodes=1500,experience_maxlen=2**10,batch_size=128,gamma=0.9,learning_rate_start=1e-3,learning_rate_end=1e-4,epsilon_start=0.1,epsilon_end=0.05,tau=0.005,device=\"cuda\" if torch.cuda.is_available() else \"cpu\",print_step=100)\n",
    "t_end=time.time()\n",
    "print(\"training cost: \", t_end-t_start)"
   ]
  },
  {
   "cell_type": "markdown",
   "metadata": {},
   "source": [
    "### Plot Train Result"
   ]
  },
  {
   "cell_type": "code",
   "execution_count": null,
   "metadata": {},
   "outputs": [
    {
     "data": {
      "image/png": "[encoded data removed]",
      "text/plain": [
       "<Figure size 640x480 with 1 Axes>"
      ]
     },
     "metadata": {},
     "output_type": "display_data"
    },
    {
     "data": {
      "image/png": "[encoded data removed]",
      "text/plain": [
       "<Figure size 640x480 with 1 Axes>"
      ]
     },
     "metadata": {},
     "output_type": "display_data"
    }
   ],
   "source": [
    "import matplotlib.pyplot as plt\n",
    "from typing import Dict\n",
    "def plot_num_attempts_per_episode(num_attempts_per_episode:Dict):\n",
    "    fig,ax=plt.subplots()\n",
    "    ax.plot(num_attempts_per_episode.keys(),num_attempts_per_episode.values())\n",
    "    \n",
    "def plot_reward_per_episode(reward_per_episode:Dict):\n",
    "    fig,ax=plt.subplots()\n",
    "    ax.plot(reward_per_episode.keys(),reward_per_episode.values())\n",
    "    \n",
    "plot_num_attempts_per_episode(q_learning_num_attempts_per_episode)\n",
    "plot_reward_per_episode(q_learning_reward_per_episode)"
   ]
  }
 ],
 "metadata": {
  "kernelspec": {
   "display_name": "pytorch_1.12.1_rl",
   "language": "python",
   "name": "python3"
  },
  "language_info": {
   "codemirror_mode": {
    "name": "ipython",
    "version": 3
   },
   "file_extension": ".py",
   "mimetype": "text/x-python",
   "name": "python",
   "nbconvert_exporter": "python",
   "pygments_lexer": "ipython3",
   "version": "3.10.12"
  },
  "orig_nbformat": 4
 },
 "nbformat": 4,
 "nbformat_minor": 2
}
