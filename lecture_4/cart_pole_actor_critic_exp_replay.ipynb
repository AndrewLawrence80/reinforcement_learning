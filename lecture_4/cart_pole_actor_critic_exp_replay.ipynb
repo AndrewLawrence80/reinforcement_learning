{
 "cells": [
  {
   "cell_type": "markdown",
   "metadata": {},
   "source": [
    "# Cart Pole TD-AC Solution\n",
    "\n",
    "![td_ac](../images/lecture_4/td_ac.png)\n"
   ]
  },
  {
   "cell_type": "markdown",
   "metadata": {},
   "source": [
    "## Import Env\n"
   ]
  },
  {
   "cell_type": "code",
   "execution_count": 11,
   "metadata": {},
   "outputs": [
    {
     "name": "stdout",
     "output_type": "stream",
     "text": [
      "CartPole-v0\tEnvSpec(id='CartPole-v0', entry_point='gymnasium.envs.classic_control.cartpole:CartPoleEnv', reward_threshold=195.0, nondeterministic=False, max_episode_steps=200, order_enforce=True, autoreset=False, disable_env_checker=False, apply_api_compatibility=False, kwargs={}, namespace=None, name='CartPole', version=0, additional_wrappers=(), vector_entry_point='gymnasium.envs.classic_control.cartpole:CartPoleVectorEnv')\n",
      "CartPole-v1\tEnvSpec(id='CartPole-v1', entry_point='gymnasium.envs.classic_control.cartpole:CartPoleEnv', reward_threshold=475.0, nondeterministic=False, max_episode_steps=500, order_enforce=True, autoreset=False, disable_env_checker=False, apply_api_compatibility=False, kwargs={}, namespace=None, name='CartPole', version=1, additional_wrappers=(), vector_entry_point='gymnasium.envs.classic_control.cartpole:CartPoleVectorEnv')\n",
      "MountainCar-v0\tEnvSpec(id='MountainCar-v0', entry_point='gymnasium.envs.classic_control.mountain_car:MountainCarEnv', reward_threshold=-110.0, nondeterministic=False, max_episode_steps=200, order_enforce=True, autoreset=False, disable_env_checker=False, apply_api_compatibility=False, kwargs={}, namespace=None, name='MountainCar', version=0, additional_wrappers=(), vector_entry_point=None)\n",
      "MountainCarContinuous-v0\tEnvSpec(id='MountainCarContinuous-v0', entry_point='gymnasium.envs.classic_control.continuous_mountain_car:Continuous_MountainCarEnv', reward_threshold=90.0, nondeterministic=False, max_episode_steps=999, order_enforce=True, autoreset=False, disable_env_checker=False, apply_api_compatibility=False, kwargs={}, namespace=None, name='MountainCarContinuous', version=0, additional_wrappers=(), vector_entry_point=None)\n",
      "Pendulum-v1\tEnvSpec(id='Pendulum-v1', entry_point='gymnasium.envs.classic_control.pendulum:PendulumEnv', reward_threshold=None, nondeterministic=False, max_episode_steps=200, order_enforce=True, autoreset=False, disable_env_checker=False, apply_api_compatibility=False, kwargs={}, namespace=None, name='Pendulum', version=1, additional_wrappers=(), vector_entry_point=None)\n",
      "Acrobot-v1\tEnvSpec(id='Acrobot-v1', entry_point='gymnasium.envs.classic_control.acrobot:AcrobotEnv', reward_threshold=-100.0, nondeterministic=False, max_episode_steps=500, order_enforce=True, autoreset=False, disable_env_checker=False, apply_api_compatibility=False, kwargs={}, namespace=None, name='Acrobot', version=1, additional_wrappers=(), vector_entry_point=None)\n",
      "CartPoleJax-v0\tEnvSpec(id='CartPoleJax-v0', entry_point='gymnasium.envs.phys2d.cartpole:CartPoleJaxEnv', reward_threshold=195.0, nondeterministic=False, max_episode_steps=200, order_enforce=True, autoreset=False, disable_env_checker=False, apply_api_compatibility=False, kwargs={}, namespace=None, name='CartPoleJax', version=0, additional_wrappers=(), vector_entry_point='gymnasium.envs.phys2d.cartpole:CartPoleJaxVectorEnv')\n",
      "CartPoleJax-v1\tEnvSpec(id='CartPoleJax-v1', entry_point='gymnasium.envs.phys2d.cartpole:CartPoleJaxEnv', reward_threshold=475.0, nondeterministic=False, max_episode_steps=500, order_enforce=True, autoreset=False, disable_env_checker=False, apply_api_compatibility=False, kwargs={}, namespace=None, name='CartPoleJax', version=1, additional_wrappers=(), vector_entry_point='gymnasium.envs.phys2d.cartpole:CartPoleJaxVectorEnv')\n",
      "PendulumJax-v0\tEnvSpec(id='PendulumJax-v0', entry_point='gymnasium.envs.phys2d.pendulum:PendulumJaxEnv', reward_threshold=None, nondeterministic=False, max_episode_steps=200, order_enforce=True, autoreset=False, disable_env_checker=False, apply_api_compatibility=False, kwargs={}, namespace=None, name='PendulumJax', version=0, additional_wrappers=(), vector_entry_point='gymnasium.envs.phys2d.pendulum:PendulumJaxVectorEnv')\n",
      "LunarLander-v2\tEnvSpec(id='LunarLander-v2', entry_point='gymnasium.envs.box2d.lunar_lander:LunarLander', reward_threshold=200, nondeterministic=False, max_episode_steps=1000, order_enforce=True, autoreset=False, disable_env_checker=False, apply_api_compatibility=False, kwargs={}, namespace=None, name='LunarLander', version=2, additional_wrappers=(), vector_entry_point=None)\n",
      "LunarLanderContinuous-v2\tEnvSpec(id='LunarLanderContinuous-v2', entry_point='gymnasium.envs.box2d.lunar_lander:LunarLander', reward_threshold=200, nondeterministic=False, max_episode_steps=1000, order_enforce=True, autoreset=False, disable_env_checker=False, apply_api_compatibility=False, kwargs={'continuous': True}, namespace=None, name='LunarLanderContinuous', version=2, additional_wrappers=(), vector_entry_point=None)\n",
      "BipedalWalker-v3\tEnvSpec(id='BipedalWalker-v3', entry_point='gymnasium.envs.box2d.bipedal_walker:BipedalWalker', reward_threshold=300, nondeterministic=False, max_episode_steps=1600, order_enforce=True, autoreset=False, disable_env_checker=False, apply_api_compatibility=False, kwargs={}, namespace=None, name='BipedalWalker', version=3, additional_wrappers=(), vector_entry_point=None)\n",
      "BipedalWalkerHardcore-v3\tEnvSpec(id='BipedalWalkerHardcore-v3', entry_point='gymnasium.envs.box2d.bipedal_walker:BipedalWalker', reward_threshold=300, nondeterministic=False, max_episode_steps=2000, order_enforce=True, autoreset=False, disable_env_checker=False, apply_api_compatibility=False, kwargs={'hardcore': True}, namespace=None, name='BipedalWalkerHardcore', version=3, additional_wrappers=(), vector_entry_point=None)\n",
      "CarRacing-v2\tEnvSpec(id='CarRacing-v2', entry_point='gymnasium.envs.box2d.car_racing:CarRacing', reward_threshold=900, nondeterministic=False, max_episode_steps=1000, order_enforce=True, autoreset=False, disable_env_checker=False, apply_api_compatibility=False, kwargs={}, namespace=None, name='CarRacing', version=2, additional_wrappers=(), vector_entry_point=None)\n",
      "Blackjack-v1\tEnvSpec(id='Blackjack-v1', entry_point='gymnasium.envs.toy_text.blackjack:BlackjackEnv', reward_threshold=None, nondeterministic=False, max_episode_steps=None, order_enforce=True, autoreset=False, disable_env_checker=False, apply_api_compatibility=False, kwargs={'sab': True, 'natural': False}, namespace=None, name='Blackjack', version=1, additional_wrappers=(), vector_entry_point=None)\n",
      "FrozenLake-v1\tEnvSpec(id='FrozenLake-v1', entry_point='gymnasium.envs.toy_text.frozen_lake:FrozenLakeEnv', reward_threshold=0.7, nondeterministic=False, max_episode_steps=100, order_enforce=True, autoreset=False, disable_env_checker=False, apply_api_compatibility=False, kwargs={'map_name': '4x4'}, namespace=None, name='FrozenLake', version=1, additional_wrappers=(), vector_entry_point=None)\n",
      "FrozenLake8x8-v1\tEnvSpec(id='FrozenLake8x8-v1', entry_point='gymnasium.envs.toy_text.frozen_lake:FrozenLakeEnv', reward_threshold=0.85, nondeterministic=False, max_episode_steps=200, order_enforce=True, autoreset=False, disable_env_checker=False, apply_api_compatibility=False, kwargs={'map_name': '8x8'}, namespace=None, name='FrozenLake8x8', version=1, additional_wrappers=(), vector_entry_point=None)\n",
      "CliffWalking-v0\tEnvSpec(id='CliffWalking-v0', entry_point='gymnasium.envs.toy_text.cliffwalking:CliffWalkingEnv', reward_threshold=None, nondeterministic=False, max_episode_steps=None, order_enforce=True, autoreset=False, disable_env_checker=False, apply_api_compatibility=False, kwargs={}, namespace=None, name='CliffWalking', version=0, additional_wrappers=(), vector_entry_point=None)\n",
      "Taxi-v3\tEnvSpec(id='Taxi-v3', entry_point='gymnasium.envs.toy_text.taxi:TaxiEnv', reward_threshold=8, nondeterministic=False, max_episode_steps=200, order_enforce=True, autoreset=False, disable_env_checker=False, apply_api_compatibility=False, kwargs={}, namespace=None, name='Taxi', version=3, additional_wrappers=(), vector_entry_point=None)\n",
      "Jax-Blackjack-v0\tEnvSpec(id='Jax-Blackjack-v0', entry_point='gymnasium.envs.tabular.blackjack:BlackJackJaxEnv', reward_threshold=None, nondeterministic=False, max_episode_steps=None, order_enforce=True, autoreset=False, disable_env_checker=False, apply_api_compatibility=False, kwargs={'sutton_and_barto': True, 'natural': False}, namespace=None, name='Jax-Blackjack', version=0, additional_wrappers=(), vector_entry_point=None)\n",
      "Reacher-v2\tEnvSpec(id='Reacher-v2', entry_point='gymnasium.envs.mujoco:ReacherEnv', reward_threshold=-3.75, nondeterministic=False, max_episode_steps=50, order_enforce=True, autoreset=False, disable_env_checker=False, apply_api_compatibility=False, kwargs={}, namespace=None, name='Reacher', version=2, additional_wrappers=(), vector_entry_point=None)\n",
      "Reacher-v4\tEnvSpec(id='Reacher-v4', entry_point='gymnasium.envs.mujoco.reacher_v4:ReacherEnv', reward_threshold=-3.75, nondeterministic=False, max_episode_steps=50, order_enforce=True, autoreset=False, disable_env_checker=False, apply_api_compatibility=False, kwargs={}, namespace=None, name='Reacher', version=4, additional_wrappers=(), vector_entry_point=None)\n",
      "Pusher-v2\tEnvSpec(id='Pusher-v2', entry_point='gymnasium.envs.mujoco:PusherEnv', reward_threshold=0.0, nondeterministic=False, max_episode_steps=100, order_enforce=True, autoreset=False, disable_env_checker=False, apply_api_compatibility=False, kwargs={}, namespace=None, name='Pusher', version=2, additional_wrappers=(), vector_entry_point=None)\n",
      "Pusher-v4\tEnvSpec(id='Pusher-v4', entry_point='gymnasium.envs.mujoco.pusher_v4:PusherEnv', reward_threshold=0.0, nondeterministic=False, max_episode_steps=100, order_enforce=True, autoreset=False, disable_env_checker=False, apply_api_compatibility=False, kwargs={}, namespace=None, name='Pusher', version=4, additional_wrappers=(), vector_entry_point=None)\n",
      "InvertedPendulum-v2\tEnvSpec(id='InvertedPendulum-v2', entry_point='gymnasium.envs.mujoco:InvertedPendulumEnv', reward_threshold=950.0, nondeterministic=False, max_episode_steps=1000, order_enforce=True, autoreset=False, disable_env_checker=False, apply_api_compatibility=False, kwargs={}, namespace=None, name='InvertedPendulum', version=2, additional_wrappers=(), vector_entry_point=None)\n",
      "InvertedPendulum-v4\tEnvSpec(id='InvertedPendulum-v4', entry_point='gymnasium.envs.mujoco.inverted_pendulum_v4:InvertedPendulumEnv', reward_threshold=950.0, nondeterministic=False, max_episode_steps=1000, order_enforce=True, autoreset=False, disable_env_checker=False, apply_api_compatibility=False, kwargs={}, namespace=None, name='InvertedPendulum', version=4, additional_wrappers=(), vector_entry_point=None)\n",
      "InvertedDoublePendulum-v2\tEnvSpec(id='InvertedDoublePendulum-v2', entry_point='gymnasium.envs.mujoco:InvertedDoublePendulumEnv', reward_threshold=9100.0, nondeterministic=False, max_episode_steps=1000, order_enforce=True, autoreset=False, disable_env_checker=False, apply_api_compatibility=False, kwargs={}, namespace=None, name='InvertedDoublePendulum', version=2, additional_wrappers=(), vector_entry_point=None)\n",
      "InvertedDoublePendulum-v4\tEnvSpec(id='InvertedDoublePendulum-v4', entry_point='gymnasium.envs.mujoco.inverted_double_pendulum_v4:InvertedDoublePendulumEnv', reward_threshold=9100.0, nondeterministic=False, max_episode_steps=1000, order_enforce=True, autoreset=False, disable_env_checker=False, apply_api_compatibility=False, kwargs={}, namespace=None, name='InvertedDoublePendulum', version=4, additional_wrappers=(), vector_entry_point=None)\n",
      "HalfCheetah-v2\tEnvSpec(id='HalfCheetah-v2', entry_point='gymnasium.envs.mujoco:HalfCheetahEnv', reward_threshold=4800.0, nondeterministic=False, max_episode_steps=1000, order_enforce=True, autoreset=False, disable_env_checker=False, apply_api_compatibility=False, kwargs={}, namespace=None, name='HalfCheetah', version=2, additional_wrappers=(), vector_entry_point=None)\n",
      "HalfCheetah-v3\tEnvSpec(id='HalfCheetah-v3', entry_point='gymnasium.envs.mujoco.half_cheetah_v3:HalfCheetahEnv', reward_threshold=4800.0, nondeterministic=False, max_episode_steps=1000, order_enforce=True, autoreset=False, disable_env_checker=False, apply_api_compatibility=False, kwargs={}, namespace=None, name='HalfCheetah', version=3, additional_wrappers=(), vector_entry_point=None)\n",
      "HalfCheetah-v4\tEnvSpec(id='HalfCheetah-v4', entry_point='gymnasium.envs.mujoco.half_cheetah_v4:HalfCheetahEnv', reward_threshold=4800.0, nondeterministic=False, max_episode_steps=1000, order_enforce=True, autoreset=False, disable_env_checker=False, apply_api_compatibility=False, kwargs={}, namespace=None, name='HalfCheetah', version=4, additional_wrappers=(), vector_entry_point=None)\n",
      "Hopper-v2\tEnvSpec(id='Hopper-v2', entry_point='gymnasium.envs.mujoco:HopperEnv', reward_threshold=3800.0, nondeterministic=False, max_episode_steps=1000, order_enforce=True, autoreset=False, disable_env_checker=False, apply_api_compatibility=False, kwargs={}, namespace=None, name='Hopper', version=2, additional_wrappers=(), vector_entry_point=None)\n",
      "Hopper-v3\tEnvSpec(id='Hopper-v3', entry_point='gymnasium.envs.mujoco.hopper_v3:HopperEnv', reward_threshold=3800.0, nondeterministic=False, max_episode_steps=1000, order_enforce=True, autoreset=False, disable_env_checker=False, apply_api_compatibility=False, kwargs={}, namespace=None, name='Hopper', version=3, additional_wrappers=(), vector_entry_point=None)\n",
      "Hopper-v4\tEnvSpec(id='Hopper-v4', entry_point='gymnasium.envs.mujoco.hopper_v4:HopperEnv', reward_threshold=3800.0, nondeterministic=False, max_episode_steps=1000, order_enforce=True, autoreset=False, disable_env_checker=False, apply_api_compatibility=False, kwargs={}, namespace=None, name='Hopper', version=4, additional_wrappers=(), vector_entry_point=None)\n",
      "Swimmer-v2\tEnvSpec(id='Swimmer-v2', entry_point='gymnasium.envs.mujoco:SwimmerEnv', reward_threshold=360.0, nondeterministic=False, max_episode_steps=1000, order_enforce=True, autoreset=False, disable_env_checker=False, apply_api_compatibility=False, kwargs={}, namespace=None, name='Swimmer', version=2, additional_wrappers=(), vector_entry_point=None)\n",
      "Swimmer-v3\tEnvSpec(id='Swimmer-v3', entry_point='gymnasium.envs.mujoco.swimmer_v3:SwimmerEnv', reward_threshold=360.0, nondeterministic=False, max_episode_steps=1000, order_enforce=True, autoreset=False, disable_env_checker=False, apply_api_compatibility=False, kwargs={}, namespace=None, name='Swimmer', version=3, additional_wrappers=(), vector_entry_point=None)\n",
      "Swimmer-v4\tEnvSpec(id='Swimmer-v4', entry_point='gymnasium.envs.mujoco.swimmer_v4:SwimmerEnv', reward_threshold=360.0, nondeterministic=False, max_episode_steps=1000, order_enforce=True, autoreset=False, disable_env_checker=False, apply_api_compatibility=False, kwargs={}, namespace=None, name='Swimmer', version=4, additional_wrappers=(), vector_entry_point=None)\n",
      "Walker2d-v2\tEnvSpec(id='Walker2d-v2', entry_point='gymnasium.envs.mujoco:Walker2dEnv', reward_threshold=None, nondeterministic=False, max_episode_steps=1000, order_enforce=True, autoreset=False, disable_env_checker=False, apply_api_compatibility=False, kwargs={}, namespace=None, name='Walker2d', version=2, additional_wrappers=(), vector_entry_point=None)\n",
      "Walker2d-v3\tEnvSpec(id='Walker2d-v3', entry_point='gymnasium.envs.mujoco.walker2d_v3:Walker2dEnv', reward_threshold=None, nondeterministic=False, max_episode_steps=1000, order_enforce=True, autoreset=False, disable_env_checker=False, apply_api_compatibility=False, kwargs={}, namespace=None, name='Walker2d', version=3, additional_wrappers=(), vector_entry_point=None)\n",
      "Walker2d-v4\tEnvSpec(id='Walker2d-v4', entry_point='gymnasium.envs.mujoco.walker2d_v4:Walker2dEnv', reward_threshold=None, nondeterministic=False, max_episode_steps=1000, order_enforce=True, autoreset=False, disable_env_checker=False, apply_api_compatibility=False, kwargs={}, namespace=None, name='Walker2d', version=4, additional_wrappers=(), vector_entry_point=None)\n",
      "Ant-v2\tEnvSpec(id='Ant-v2', entry_point='gymnasium.envs.mujoco:AntEnv', reward_threshold=6000.0, nondeterministic=False, max_episode_steps=1000, order_enforce=True, autoreset=False, disable_env_checker=False, apply_api_compatibility=False, kwargs={}, namespace=None, name='Ant', version=2, additional_wrappers=(), vector_entry_point=None)\n",
      "Ant-v3\tEnvSpec(id='Ant-v3', entry_point='gymnasium.envs.mujoco.ant_v3:AntEnv', reward_threshold=6000.0, nondeterministic=False, max_episode_steps=1000, order_enforce=True, autoreset=False, disable_env_checker=False, apply_api_compatibility=False, kwargs={}, namespace=None, name='Ant', version=3, additional_wrappers=(), vector_entry_point=None)\n",
      "Ant-v4\tEnvSpec(id='Ant-v4', entry_point='gymnasium.envs.mujoco.ant_v4:AntEnv', reward_threshold=6000.0, nondeterministic=False, max_episode_steps=1000, order_enforce=True, autoreset=False, disable_env_checker=False, apply_api_compatibility=False, kwargs={}, namespace=None, name='Ant', version=4, additional_wrappers=(), vector_entry_point=None)\n",
      "Humanoid-v2\tEnvSpec(id='Humanoid-v2', entry_point='gymnasium.envs.mujoco:HumanoidEnv', reward_threshold=None, nondeterministic=False, max_episode_steps=1000, order_enforce=True, autoreset=False, disable_env_checker=False, apply_api_compatibility=False, kwargs={}, namespace=None, name='Humanoid', version=2, additional_wrappers=(), vector_entry_point=None)\n",
      "Humanoid-v3\tEnvSpec(id='Humanoid-v3', entry_point='gymnasium.envs.mujoco.humanoid_v3:HumanoidEnv', reward_threshold=None, nondeterministic=False, max_episode_steps=1000, order_enforce=True, autoreset=False, disable_env_checker=False, apply_api_compatibility=False, kwargs={}, namespace=None, name='Humanoid', version=3, additional_wrappers=(), vector_entry_point=None)\n",
      "Humanoid-v4\tEnvSpec(id='Humanoid-v4', entry_point='gymnasium.envs.mujoco.humanoid_v4:HumanoidEnv', reward_threshold=None, nondeterministic=False, max_episode_steps=1000, order_enforce=True, autoreset=False, disable_env_checker=False, apply_api_compatibility=False, kwargs={}, namespace=None, name='Humanoid', version=4, additional_wrappers=(), vector_entry_point=None)\n",
      "HumanoidStandup-v2\tEnvSpec(id='HumanoidStandup-v2', entry_point='gymnasium.envs.mujoco:HumanoidStandupEnv', reward_threshold=None, nondeterministic=False, max_episode_steps=1000, order_enforce=True, autoreset=False, disable_env_checker=False, apply_api_compatibility=False, kwargs={}, namespace=None, name='HumanoidStandup', version=2, additional_wrappers=(), vector_entry_point=None)\n",
      "HumanoidStandup-v4\tEnvSpec(id='HumanoidStandup-v4', entry_point='gymnasium.envs.mujoco.humanoidstandup_v4:HumanoidStandupEnv', reward_threshold=None, nondeterministic=False, max_episode_steps=1000, order_enforce=True, autoreset=False, disable_env_checker=False, apply_api_compatibility=False, kwargs={}, namespace=None, name='HumanoidStandup', version=4, additional_wrappers=(), vector_entry_point=None)\n",
      "GymV21Environment-v0\tEnvSpec(id='GymV21Environment-v0', entry_point=<function _raise_shimmy_error at 0x7f312cc6f9a0>, reward_threshold=None, nondeterministic=False, max_episode_steps=None, order_enforce=True, autoreset=False, disable_env_checker=False, apply_api_compatibility=False, kwargs={}, namespace=None, name='GymV21Environment', version=0, additional_wrappers=(), vector_entry_point=None)\n",
      "GymV26Environment-v0\tEnvSpec(id='GymV26Environment-v0', entry_point=<function _raise_shimmy_error at 0x7f312cc6f9a0>, reward_threshold=None, nondeterministic=False, max_episode_steps=None, order_enforce=True, autoreset=False, disable_env_checker=False, apply_api_compatibility=False, kwargs={}, namespace=None, name='GymV26Environment', version=0, additional_wrappers=(), vector_entry_point=None)\n"
     ]
    }
   ],
   "source": [
    "import gymnasium as gym\n",
    "from gymnasium.envs.classic_control.cartpole import CartPoleEnv\n",
    "for k, v in gym.envs.registry.items():\n",
    "    print(str(k)+\"\\t\"+str(v))\n"
   ]
  },
  {
   "cell_type": "code",
   "execution_count": 12,
   "metadata": {},
   "outputs": [
    {
     "name": "stdout",
     "output_type": "stream",
     "text": [
      "Observation space:  Box([-4.8000002e+00 -3.4028235e+38 -4.1887903e-01 -3.4028235e+38], [4.8000002e+00 3.4028235e+38 4.1887903e-01 3.4028235e+38], (4,), float32)\n",
      "Observation shape:  (4,)\n",
      "Action space:  Discrete(2)\n"
     ]
    }
   ],
   "source": [
    "env = gym.make(\"CartPole-v1\")\n",
    "print(\"Observation space: \", env.observation_space)\n",
    "print(\"Observation shape: \", env.observation_space.shape)\n",
    "print(\"Action space: \", env.action_space)\n"
   ]
  },
  {
   "cell_type": "markdown",
   "metadata": {},
   "source": [
    "## Normalizer"
   ]
  },
  {
   "cell_type": "code",
   "execution_count": 13,
   "metadata": {},
   "outputs": [
    {
     "data": {
      "text/plain": [
       "array([0.49609885, 0.5       , 0.4773186 , 0.5       ], dtype=float32)"
      ]
     },
     "execution_count": 13,
     "metadata": {},
     "output_type": "execute_result"
    }
   ],
   "source": [
    "import numpy as np\n",
    "\n",
    "\n",
    "def normalizer(env: gym.Env, state: np.ndarray):\n",
    "    LOW = np.asarray(env.observation_space.low, dtype=np.float64)\n",
    "    HIGH = np.asarray(env.observation_space.high, dtype=np.float64)\n",
    "    normalized_state = np.zeros(state.shape)\n",
    "    normalized_state = (state-LOW)/(HIGH - LOW)\n",
    "    normalized_state = normalized_state.astype(np.float32)\n",
    "    return normalized_state\n",
    "\n",
    "normalizer(env,env.reset()[0])\n"
   ]
  },
  {
   "cell_type": "markdown",
   "metadata": {},
   "source": [
    "## Actor\n"
   ]
  },
  {
   "cell_type": "code",
   "execution_count": 14,
   "metadata": {},
   "outputs": [
    {
     "data": {
      "text/plain": [
       "tensor(1)"
      ]
     },
     "execution_count": 14,
     "metadata": {},
     "output_type": "execute_result"
    }
   ],
   "source": [
    "import torch\n",
    "import torch.nn as nn\n",
    "import torch.distributions as distributions\n",
    "\n",
    "\n",
    "class Actor(nn.Module):\n",
    "    def __init__(self, num_observations: int, num_actions: int) -> None:\n",
    "        super().__init__()\n",
    "        self.linear_1 = nn.Linear(num_observations, 128)\n",
    "        self.linear_2 = nn.Linear(128, num_actions)\n",
    "        self.selu = nn.SELU()\n",
    "        self.softmax = nn.Softmax(dim=-1)\n",
    "\n",
    "    def forward(self, state: torch.Tensor) -> torch.Tensor:\n",
    "        action_prob = self.linear_1(state)\n",
    "        action_prob = self.selu(action_prob)\n",
    "        action_prob = self.linear_2(action_prob)\n",
    "        action_prob = self.softmax(action_prob)\n",
    "        return action_prob\n",
    "\n",
    "\n",
    "distributions.Categorical(Actor(env.observation_space.shape[0], env.action_space.n)(\n",
    "    torch.tensor(env.reset()[0], dtype=torch.float32))).sample()\n"
   ]
  },
  {
   "cell_type": "markdown",
   "metadata": {},
   "source": [
    "## Critic\n"
   ]
  },
  {
   "cell_type": "code",
   "execution_count": 15,
   "metadata": {},
   "outputs": [
    {
     "data": {
      "text/plain": [
       "tensor([0.2970], grad_fn=<AddBackward0>)"
      ]
     },
     "execution_count": 15,
     "metadata": {},
     "output_type": "execute_result"
    }
   ],
   "source": [
    "class Critic(nn.Module):\n",
    "    def __init__(self, num_observations: int) -> None:\n",
    "        super().__init__()\n",
    "        self.linear_1 = nn.Linear(num_observations, 128)\n",
    "        self.linear_2 = nn.Linear(128, 1)\n",
    "        self.selu = nn.SELU()\n",
    "\n",
    "    def forward(self, state: torch.Tensor) -> torch.Tensor:\n",
    "        state_value = self.linear_1(state)\n",
    "        state_value = self.selu(state_value)\n",
    "        state_value = self.linear_2(state_value)\n",
    "        return state_value\n",
    "\n",
    "\n",
    "Critic(env.observation_space.shape[0])(\n",
    "    torch.tensor(env.reset()[0], dtype=torch.float32))\n"
   ]
  },
  {
   "cell_type": "markdown",
   "metadata": {},
   "source": [
    "## Transition and Experience\n"
   ]
  },
  {
   "cell_type": "code",
   "execution_count": 16,
   "metadata": {},
   "outputs": [],
   "source": [
    "import random\n",
    "from collections import deque, namedtuple\n",
    "from typing import List\n",
    "Transition = namedtuple(\n",
    "    \"Transition\", [\"state\", \"action\", \"next_state\", \"reward\"])\n",
    "\n",
    "\n",
    "class Experience:\n",
    "    def __init__(self, maxlen: int) -> None:\n",
    "        self.experience = deque([], maxlen)\n",
    "\n",
    "    def __len__(self) -> int:\n",
    "        return len(self.experience)\n",
    "\n",
    "    def sample(self, batch_size: int) -> List:\n",
    "        return random.sample(self.experience, batch_size)\n",
    "\n",
    "    def append(self, transition: Transition):\n",
    "        self.experience.append(transition)\n"
   ]
  },
  {
   "cell_type": "markdown",
   "metadata": {},
   "source": [
    "## Decayed Learning Rate\n"
   ]
  },
  {
   "cell_type": "code",
   "execution_count": 17,
   "metadata": {},
   "outputs": [
    {
     "data": {
      "image/png": "[encoded data removed]",
      "text/plain": [
       "<Figure size 640x480 with 1 Axes>"
      ]
     },
     "metadata": {},
     "output_type": "display_data"
    }
   ],
   "source": [
    "import numpy as np\n",
    "\n",
    "\n",
    "def get_learning_rate(learning_rate_start: float, learning_rate_end: float, num_episodes: float, step_i: int):\n",
    "    \"\"\"return epsilon=epsilon_end+(epsilon_start-epsilon_end)*decay_rate**step_decay\"\"\"\n",
    "    learning_rate = learning_rate_end + \\\n",
    "        (learning_rate_start-learning_rate_end)*np.exp(-1.0*step_i/num_episodes)\n",
    "    return learning_rate\n",
    "\n",
    "\n",
    "def plot_learning_rate(epsilon_start: float, epsilon_end: float, num_episode: float):\n",
    "    import matplotlib.pyplot as plt\n",
    "    xs = np.arange(num_episode)\n",
    "    lrs = np.array([get_learning_rate(\n",
    "        epsilon_start, epsilon_end, num_episode, step) for step in xs])\n",
    "    plt.plot(xs, lrs)\n",
    "\n",
    "\n",
    "plot_learning_rate(1e-2, 1e-4, int(1e3))\n"
   ]
  },
  {
   "cell_type": "markdown",
   "metadata": {},
   "source": [
    "## Actor-Critic Solution\n"
   ]
  },
  {
   "cell_type": "code",
   "execution_count": 18,
   "metadata": {},
   "outputs": [],
   "source": [
    "def update_actor_critic(actor:Actor,critic: Critic, critic_target: Critic, \n",
    "                        optimizer_actor: torch.optim.Optimizer, optimizer_critic: torch.optim.Optimizer,\n",
    "                        experience: Experience, batch_size:int,\n",
    "                        learning_rate_actor: float, learning_rate_critic: float,\n",
    "                        discount_factor: float,\n",
    "                        critic_shift_tau: float,\n",
    "                        device: str):\n",
    "    for g in optimizer_actor.param_groups:\n",
    "        g[\"lr\"]=learning_rate_actor\n",
    "    for g in optimizer_critic.param_groups:\n",
    "        g[\"lr\"]=learning_rate_critic\n",
    "    \n",
    "    batch=experience.sample(batch_size)\n",
    "    batch_state,batch_action,batch_next_state,batch_reward=zip(*batch)\n",
    "    \n",
    "    # process non-none next_state\n",
    "    mask_batch_next_state_is_not_none=[next_state is not None for next_state in batch_next_state]\n",
    "    batch_not_none_next_state=[next_state for next_state in batch_next_state if next_state is not None]\n",
    "    \n",
    "    # transfer to tensor\n",
    "    batch_state=torch.tensor(batch_state,dtype=torch.float32,device=device)\n",
    "    batch_action=torch.tensor(batch_action,dtype=torch.int64,device=device).reshape((-1,1))\n",
    "    batch_not_none_next_state=torch.tensor(batch_not_none_next_state,dtype=torch.float32,device=device)\n",
    "    batch_reward=torch.tensor(batch_reward,dtype=torch.float32,device=device).reshape((-1,1))\n",
    "    mask_batch_next_state_is_not_none=torch.tensor(mask_batch_next_state_is_not_none,dtype=torch.bool,device=device)\n",
    "    \n",
    "    value_state=critic(batch_state)\n",
    "    # calculate td delta\n",
    "    value_next_state=torch.zeros(batch_reward.size(),dtype=torch.float32,device=device)\n",
    "    with torch.no_grad():\n",
    "        value_next_state[mask_batch_next_state_is_not_none]=critic_target(batch_not_none_next_state)\n",
    "    td_target=batch_reward+discount_factor*value_next_state\n",
    "    \n",
    "    batch_action_log_prob=torch.log(actor(batch_state).gather(-1,batch_action))\n",
    "    \n",
    "    loss_critic_fn=nn.MSELoss()\n",
    "    td_delta=torch.zeros(td_target.size(),dtype=torch.float32,device=device)\n",
    "    with torch.no_grad():\n",
    "        td_delta=td_target-value_state\n",
    "    optimizer_actor.zero_grad()\n",
    "    optimizer_critic.zero_grad()\n",
    "    loss_actor=-torch.mean(td_delta*batch_action_log_prob)\n",
    "    loss_actor.backward()\n",
    "    loss_critic=loss_critic_fn(value_state,td_target)\n",
    "    loss_critic.backward()\n",
    "    optimizer_actor.step()\n",
    "    optimizer_critic.step()\n",
    "    \n",
    "    critic_state_dict=critic.state_dict()\n",
    "    critic_target_state_dict=critic_target.state_dict()\n",
    "    for key in critic_state_dict:\n",
    "        critic_target_state_dict[key]=critic_state_dict[key]*critic_shift_tau+critic_target_state_dict[key]*(1-critic_shift_tau)\n",
    "    critic_target.load_state_dict(critic_target_state_dict)\n",
    "    "
   ]
  },
  {
   "cell_type": "code",
   "execution_count": 19,
   "metadata": {},
   "outputs": [],
   "source": [
    "from collections import defaultdict\n",
    "from typing import Tuple, Dict\n",
    "\n",
    "\n",
    "def actor_critic(env: gym.Env, num_episodes: int,\n",
    "                 experience_maxlen: int = 1024, batch_size: int = 128,\n",
    "                 learning_rate_actor_start: float = 1e-3, learning_rate_actor_end: float = 1e-4,\n",
    "                 learning_rate_critic_start: float = 1e-3, learning_rate_critic_end: float = 1e-4,\n",
    "                 discount_factor: float = 0.9,\n",
    "                 critic_shift_tau: float = 0.05,\n",
    "                 device: str = \"cpu\",\n",
    "                 print_step: int = 100) -> Tuple[Actor, Critic, Dict]:\n",
    "    actor = Actor(\n",
    "        env.observation_space.shape[0], env.action_space.n).to(device)\n",
    "    critic = Critic(env.observation_space.shape[0]).to(device)\n",
    "    critic_target = Critic(env.observation_space.shape[0]).to(device)\n",
    "    critic_target.load_state_dict(critic.state_dict())\n",
    "    # init optimizers for actor and critic\n",
    "    optimizer_actor = torch.optim.SGD(actor.parameters(),lr=learning_rate_actor_start)\n",
    "    optimizer_critic = torch.optim.SGD(critic.parameters(),lr=learning_rate_critic_start)\n",
    "    # recorder\n",
    "    experience = Experience(experience_maxlen)\n",
    "    durations_per_episode = defaultdict(float)\n",
    "\n",
    "    # main train loop\n",
    "    for episode_i in range(num_episodes):\n",
    "        # update learning rate first\n",
    "        learning_rate_actor = get_learning_rate(\n",
    "            learning_rate_actor_start, learning_rate_actor_end, num_episodes, episode_i)\n",
    "        learning_rate_critic = get_learning_rate(\n",
    "            learning_rate_critic_start, learning_rate_critic_end, num_episodes, episode_i)\n",
    "        # reset env, run the game\n",
    "        state = env.reset()[0]\n",
    "        is_terminated = False\n",
    "        while not is_terminated:\n",
    "            # normalized_state=normalizer(env,state)\n",
    "            state_tensor = torch.tensor(\n",
    "                state, dtype=torch.float32, device=device)\n",
    "            action_prob = actor(state_tensor)\n",
    "            action_distribution = distributions.Categorical(action_prob)\n",
    "            action_tensor = action_distribution.sample()\n",
    "            action = action_tensor.item()\n",
    "            next_state, reward, is_terminated, is_truncated, info = env.step(\n",
    "                action)\n",
    "            if is_terminated:\n",
    "                reward = 0.0\n",
    "                next_state = None\n",
    "            experience.append(Transition(\n",
    "                state, action, next_state, reward))\n",
    "            # update state to next state\n",
    "            state = next_state\n",
    "            durations_per_episode[episode_i] += reward\n",
    "\n",
    "            if len(experience) > batch_size:\n",
    "                # update actor and critic\n",
    "                update_actor_critic(actor, critic, critic_target, \n",
    "                                    optimizer_actor, optimizer_critic,\n",
    "                                    experience, batch_size,\n",
    "                                    learning_rate_actor, learning_rate_critic,\n",
    "                                    discount_factor, critic_shift_tau,\n",
    "                                    device)\n",
    "\n",
    "        if episode_i % print_step == 0:\n",
    "            print(\"episode %d, duration %d\" %\n",
    "                  (episode_i, durations_per_episode[episode_i]))\n",
    "\n",
    "    return actor, critic, durations_per_episode\n"
   ]
  },
  {
   "cell_type": "code",
   "execution_count": 20,
   "metadata": {},
   "outputs": [
    {
     "name": "stdout",
     "output_type": "stream",
     "text": [
      "episode 0, duration 9\n",
      "episode 100, duration 28\n",
      "episode 200, duration 211\n",
      "episode 300, duration 68\n",
      "episode 400, duration 113\n",
      "episode 500, duration 114\n",
      "episode 600, duration 156\n",
      "episode 700, duration 177\n",
      "episode 800, duration 164\n",
      "episode 900, duration 194\n"
     ]
    }
   ],
   "source": [
    "actor, critic, durations_per_episode = actor_critic(env, num_episodes=1000,\n",
    "                                                    experience_maxlen=1024, batch_size=128,\n",
    "                                                    learning_rate_actor_start=1e-3, learning_rate_actor_end=1e-4,\n",
    "                                                    learning_rate_critic_start=1e-3, learning_rate_critic_end=1e-4,\n",
    "                                                    discount_factor=0.9,\n",
    "                                                    critic_shift_tau=0.05,\n",
    "                                                    device= \"cuda\" if torch.cuda.is_available() else \"cpu\", print_step=100)\n"
   ]
  },
  {
   "cell_type": "code",
   "execution_count": 21,
   "metadata": {},
   "outputs": [
    {
     "data": {
      "image/png": "[encoded data removed]",
      "text/plain": [
       "<Figure size 640x480 with 1 Axes>"
      ]
     },
     "metadata": {},
     "output_type": "display_data"
    }
   ],
   "source": [
    "import matplotlib.pyplot as plt\n",
    "def plot_num_durations_per_episode(num_durations_per_episode:Dict):\n",
    "    fig,ax=plt.subplots()\n",
    "    ax.plot(num_durations_per_episode.keys(),num_durations_per_episode.values())\n",
    "plot_num_durations_per_episode(durations_per_episode)"
   ]
  },
  {
   "cell_type": "code",
   "execution_count": 22,
   "metadata": {},
   "outputs": [],
   "source": [
    "torch.save(actor.state_dict(),\"saves/CartPole-v1-pg-exp-actor.pth\")\n",
    "torch.save(critic.state_dict(),\"saves/CartPole-v1-pg-exp-critic.pth\")"
   ]
  }
 ],
 "metadata": {
  "kernelspec": {
   "display_name": "pytorch_1.12.1_rl",
   "language": "python",
   "name": "python3"
  },
  "language_info": {
   "codemirror_mode": {
    "name": "ipython",
    "version": 3
   },
   "file_extension": ".py",
   "mimetype": "text/x-python",
   "name": "python",
   "nbconvert_exporter": "python",
   "pygments_lexer": "ipython3",
   "version": "3.10.11"
  },
  "orig_nbformat": 4
 },
 "nbformat": 4,
 "nbformat_minor": 2
}
