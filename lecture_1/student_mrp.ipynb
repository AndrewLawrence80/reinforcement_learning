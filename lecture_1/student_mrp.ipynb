{
 "cells": [
  {
   "attachments": {},
   "cell_type": "markdown",
   "metadata": {},
   "source": [
    "# Student Example\n",
    "## Student MRP\n",
    "![student_mrp](../images/lecture_1/student_mrp.png)"
   ]
  },
  {
   "cell_type": "code",
   "execution_count": 1,
   "metadata": {},
   "outputs": [],
   "source": [
    "import numpy as np\n",
    "\"\"\"\n",
    "states:\n",
    "class_1 class_2 class_3 facebook pub pass sleep\n",
    "\"\"\"\n",
    "p_mrp = np.array([[0.0, 0.5, 0.0, 0.5, 0.0, 0.0, 0.0],\n",
    "              [0.0, 0.0, 0.8, 0.0, 0.0, 0.0, 0.2],\n",
    "              [0.0, 0.0, 0.0, 0.0, 0.4, 0.6, 0.0],\n",
    "              [0.1, 0.0, 0.0, 0.9, 0.0, 0.0, 0.0],\n",
    "              [0.2, 0.4, 0.4, 0.0, 0.0, 0.0, 0.0],\n",
    "              [0.0, 0.0, 0.0, 0.0, 0.0, 0.0, 1.0],\n",
    "              [0.0, 0.0, 0.0, 0.0, 0.0, 0.0, 1.0]])\n",
    "r_mrp = np.array([-2, -2, -2, -1, +1, +10, 0])\n"
   ]
  },
  {
   "attachments": {},
   "cell_type": "markdown",
   "metadata": {},
   "source": [
    "## State Value\n",
    "![gamma_0](../images/lecture_1/student_mrp_sv_gamma_0.png)\n",
    "![gamma_0.9](../images/lecture_1/student_mrp_sv_gamma_09.png)\n",
    "![gamma_1](../images/lecture_1/student_mrp_sv_gamma_1.png)\n",
    "### Analytic Solution"
   ]
  },
  {
   "cell_type": "code",
   "execution_count": 2,
   "metadata": {},
   "outputs": [],
   "source": [
    "def analytic_mrp(p_transition,reward,gamma,num_state):\n",
    "    return np.linalg.pinv(np.eye(num_state)-gamma*p_transition).dot(reward)"
   ]
  },
  {
   "cell_type": "code",
   "execution_count": 3,
   "metadata": {},
   "outputs": [
    {
     "data": {
      "text/plain": [
       "array([-2., -2., -2., -1.,  1., 10.,  0.])"
      ]
     },
     "execution_count": 3,
     "metadata": {},
     "output_type": "execute_result"
    }
   ],
   "source": [
    "analytic_mrp(p_mrp,r_mrp,0,7)"
   ]
  },
  {
   "cell_type": "code",
   "execution_count": 4,
   "metadata": {},
   "outputs": [
    {
     "data": {
      "text/plain": [
       "array([-5.01272891e+00,  9.42655298e-01,  4.08702125e+00, -7.63760843e+00,\n",
       "        1.90839235e+00,  1.00000000e+01, -1.66533454e-16])"
      ]
     },
     "execution_count": 4,
     "metadata": {},
     "output_type": "execute_result"
    }
   ],
   "source": [
    "analytic_mrp(p_mrp,r_mrp,0.9,7)"
   ]
  },
  {
   "cell_type": "code",
   "execution_count": 5,
   "metadata": {},
   "outputs": [
    {
     "data": {
      "text/plain": [
       "array([ -9.8994709 ,   4.1005291 ,   6.96472663, -19.8994709 ,\n",
       "         3.44620811,  12.64373898,   2.64373898])"
      ]
     },
     "execution_count": 5,
     "metadata": {},
     "output_type": "execute_result"
    }
   ],
   "source": [
    "analytic_mrp(p_mrp,r_mrp,1,7)"
   ]
  },
  {
   "attachments": {},
   "cell_type": "markdown",
   "metadata": {},
   "source": [
    "### Dynamic Progarmming Solution"
   ]
  },
  {
   "cell_type": "code",
   "execution_count": 6,
   "metadata": {},
   "outputs": [],
   "source": [
    "def dp_mrp(p_transition,reward,gamma):\n",
    "    v_0=reward\n",
    "    v_1=reward+gamma*p_transition.dot(v_0)\n",
    "    while np.sum(np.power(v_1-v_0,2))>1e-3:\n",
    "        v_0=v_1\n",
    "        v_1=reward+gamma*p_transition.dot(v_0)\n",
    "    return v_1"
   ]
  },
  {
   "cell_type": "code",
   "execution_count": 7,
   "metadata": {},
   "outputs": [
    {
     "data": {
      "text/plain": [
       "array([-2., -2., -2., -1.,  1., 10.,  0.])"
      ]
     },
     "execution_count": 7,
     "metadata": {},
     "output_type": "execute_result"
    }
   ],
   "source": [
    "dp_mrp(p_mrp,r_mrp,0)"
   ]
  },
  {
   "cell_type": "code",
   "execution_count": 8,
   "metadata": {},
   "outputs": [
    {
     "data": {
      "text/plain": [
       "array([-4.92590951,  0.95204197,  4.09823574, -7.48108474,  1.93518601,\n",
       "       10.        ,  0.        ])"
      ]
     },
     "execution_count": 8,
     "metadata": {},
     "output_type": "execute_result"
    }
   ],
   "source": [
    "dp_mrp(p_mrp,r_mrp,0.9)"
   ]
  },
  {
   "cell_type": "code",
   "execution_count": 9,
   "metadata": {},
   "outputs": [
    {
     "data": {
      "text/plain": [
       "array([-12.23255073,   1.49040901,   4.36114002, -21.9831768 ,\n",
       "         0.89838023,  10.        ,   0.        ])"
      ]
     },
     "execution_count": 9,
     "metadata": {},
     "output_type": "execute_result"
    }
   ],
   "source": [
    "dp_mrp(p_mrp,r_mrp,1)"
   ]
  }
 ],
 "metadata": {
  "kernelspec": {
   "display_name": "pytorch_1.12",
   "language": "python",
   "name": "python3"
  },
  "language_info": {
   "codemirror_mode": {
    "name": "ipython",
    "version": 3
   },
   "file_extension": ".py",
   "mimetype": "text/x-python",
   "name": "python",
   "nbconvert_exporter": "python",
   "pygments_lexer": "ipython3",
   "version": "3.10.11"
  },
  "orig_nbformat": 4
 },
 "nbformat": 4,
 "nbformat_minor": 2
}
