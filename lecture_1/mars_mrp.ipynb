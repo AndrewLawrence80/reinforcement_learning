{
 "cells": [
  {
   "attachments": {},
   "cell_type": "markdown",
   "metadata": {},
   "source": [
    "# Mars Rover MRP\n",
    "Given MRP states and reward\n",
    "![mrp](../images/lecture_1/mars_mrp.png)\n",
    "and trasition probability\n",
    "![transition_mrp](../images/lecture_1/mars_transition_mrp.png)\n",
    "\n",
    "## State value"
   ]
  },
  {
   "cell_type": "code",
   "execution_count": 1,
   "metadata": {},
   "outputs": [],
   "source": [
    "import numpy as np\n",
    "p = np.array([[0.6, 0.4, 0, 0, 0, 0, 0],\n",
    "              [0.4, 0.2, 0.4, 0, 0, 0, 0],\n",
    "              [0, 0.4, 0.2, 0.4, 0, 0, 0],\n",
    "              [0, 0, 0.4, 0.2, 0.4, 0, 0],\n",
    "              [0, 0, 0, 0.4, 0.2, 0.4, 0],\n",
    "              [0, 0, 0, 0, 0.4, 0.2, 0.4],\n",
    "              [0, 0, 0, 0, 0, 0.4, 0.6]])\n",
    "r = np.array([1, 0, 0, 0, 0, 0, 10])\n"
   ]
  },
  {
   "attachments": {},
   "cell_type": "markdown",
   "metadata": {},
   "source": [
    "### Analytic Solution"
   ]
  },
  {
   "cell_type": "code",
   "execution_count": 2,
   "metadata": {},
   "outputs": [
    {
     "data": {
      "text/plain": [
       "array([ 1.53426666,  0.3699333 ,  0.13043318,  0.21701603,  0.84613895,\n",
       "        3.59060924, 15.31160264])"
      ]
     },
     "execution_count": 2,
     "metadata": {},
     "output_type": "execute_result"
    }
   ],
   "source": [
    "np.linalg.pinv(np.eye(7)-0.5*p).dot(r)"
   ]
  },
  {
   "attachments": {},
   "cell_type": "markdown",
   "metadata": {},
   "source": [
    "### Dynamic Progamming Solution"
   ]
  },
  {
   "cell_type": "code",
   "execution_count": 3,
   "metadata": {},
   "outputs": [
    {
     "data": {
      "text/plain": [
       "array([ 1.53381578,  0.36942794,  0.1298242 ,  0.21626879,  0.84524272,\n",
       "        3.58958627, 15.31050629])"
      ]
     },
     "execution_count": 3,
     "metadata": {},
     "output_type": "execute_result"
    }
   ],
   "source": [
    "v_0=np.random.randn(7)\n",
    "v_1=r+0.5*p.dot(v_0)\n",
    "while np.sum(np.power(v_1-v_0,2))>1e-5:\n",
    "    v_0=v_1\n",
    "    v_1=r+0.5*p.dot(v_0)\n",
    "v_1"
   ]
  }
 ],
 "metadata": {
  "kernelspec": {
   "display_name": "pytorch_1.12",
   "language": "python",
   "name": "python3"
  },
  "language_info": {
   "codemirror_mode": {
    "name": "ipython",
    "version": 3
   },
   "file_extension": ".py",
   "mimetype": "text/x-python",
   "name": "python",
   "nbconvert_exporter": "python",
   "pygments_lexer": "ipython3",
   "version": "3.10.11"
  },
  "orig_nbformat": 4
 },
 "nbformat": 4,
 "nbformat_minor": 2
}
