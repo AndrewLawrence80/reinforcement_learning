{
 "cells": [
  {
   "attachments": {},
   "cell_type": "markdown",
   "metadata": {},
   "source": [
    "# Frozen Lake Example for Value Iteration\n",
    "![value_iteration](../images/lecture_1/value_iteration.png)"
   ]
  },
  {
   "cell_type": "code",
   "execution_count": 1,
   "metadata": {},
   "outputs": [],
   "source": [
    "import gymnasium as gym\n",
    "import numpy as np\n",
    "from typing import List\n",
    "env=gym.make(\"FrozenLake-v1\",map_name=\"4x4\",is_slippery=True)"
   ]
  },
  {
   "attachments": {},
   "cell_type": "markdown",
   "metadata": {},
   "source": [
    "## State-Action Q"
   ]
  },
  {
   "cell_type": "code",
   "execution_count": 2,
   "metadata": {},
   "outputs": [],
   "source": [
    "def q_state_action(v: np.ndarray, state: int, action: int, P, gamma):\n",
    "    q = 0\n",
    "    for (probability, s_next, reward, _) in P[state][action]:\n",
    "        q += probability*(reward+gamma*v[s_next])\n",
    "    return q\n"
   ]
  },
  {
   "cell_type": "code",
   "execution_count": 3,
   "metadata": {},
   "outputs": [],
   "source": [
    "def value_iteration(num_states: int, num_actions: int, P, gamma,epsilon=1e-5):\n",
    "    policy=[0]*num_states\n",
    "    v_prev=np.zeros(num_states)\n",
    "    while True:\n",
    "        # one step look ahead\n",
    "        v_next=v_prev.copy()\n",
    "        delta=0.0\n",
    "        for s_i in range(num_states):\n",
    "            qs=[q_state_action(v_prev,s_i,action,P,gamma) for action in range(num_actions)]\n",
    "            max_qs=np.max(qs)\n",
    "            v_next[s_i]=max_qs\n",
    "            delta=max(delta,np.power(max_qs-v_prev[s_i],2))\n",
    "        if delta<epsilon:\n",
    "            break\n",
    "        else:\n",
    "            # choose the optimal action at each state\n",
    "            for s_i in range(num_states):\n",
    "                qs=[q_state_action(v_next,s_i,action,P,gamma) for action in range(num_actions)]\n",
    "                idx_maxqs=np.argmax(qs)\n",
    "                policy[s_i]=idx_maxqs\n",
    "        \n",
    "        # update v table\n",
    "        v_prev=v_next\n",
    "        \n",
    "    return policy"
   ]
  },
  {
   "cell_type": "code",
   "execution_count": 4,
   "metadata": {},
   "outputs": [
    {
     "data": {
      "text/plain": [
       "[0, 3, 0, 3, 0, 0, 0, 0, 3, 1, 0, 0, 0, 2, 1, 0]"
      ]
     },
     "execution_count": 4,
     "metadata": {},
     "output_type": "execute_result"
    }
   ],
   "source": [
    "policy=value_iteration(env.observation_space.n,env.action_space.n,env.P,0.9)\n",
    "policy"
   ]
  },
  {
   "attachments": {},
   "cell_type": "markdown",
   "metadata": {},
   "source": [
    "## Test the Selected Policy"
   ]
  },
  {
   "cell_type": "code",
   "execution_count": 5,
   "metadata": {},
   "outputs": [
    {
     "name": "stdout",
     "output_type": "stream",
     "text": [
      "won 767 of 1000 games\n"
     ]
    }
   ],
   "source": [
    "def policy_test(env, policy: List, num_test: int):\n",
    "    state = env.reset()[0]\n",
    "    total_reward = 0\n",
    "    for _ in range(num_test):\n",
    "        while True:\n",
    "            next_state, reward, is_terminated, truncated, info = env.step(\n",
    "                policy[state])\n",
    "            state = next_state\n",
    "            if is_terminated:\n",
    "                total_reward += reward\n",
    "                state = env.reset()[0]\n",
    "                break\n",
    "    print(\"won %d of %d games\" % (total_reward, num_test))\n",
    "    \n",
    "policy_test(env,policy,1000)\n"
   ]
  }
 ],
 "metadata": {
  "kernelspec": {
   "display_name": "pytorch_1.12.1_rl",
   "language": "python",
   "name": "python3"
  },
  "language_info": {
   "codemirror_mode": {
    "name": "ipython",
    "version": 3
   },
   "file_extension": ".py",
   "mimetype": "text/x-python",
   "name": "python",
   "nbconvert_exporter": "python",
   "pygments_lexer": "ipython3",
   "version": "3.10.11"
  },
  "orig_nbformat": 4
 },
 "nbformat": 4,
 "nbformat_minor": 2
}
